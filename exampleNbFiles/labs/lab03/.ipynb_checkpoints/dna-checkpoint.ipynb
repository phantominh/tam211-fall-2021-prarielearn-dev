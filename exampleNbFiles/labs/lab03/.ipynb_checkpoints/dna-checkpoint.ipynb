{
 "cells": [
  {
   "cell_type": "markdown",
   "metadata": {},
   "source": [
    "# `lab03`—DNA & RNA Sequencing"
   ]
  },
  {
   "cell_type": "markdown",
   "metadata": {},
   "source": [
    "![](./img/header-bkgd.png)"
   ]
  },
  {
   "cell_type": "markdown",
   "metadata": {},
   "source": [
    "❖ Objectives\n",
    "\n",
    "-   Write a simple function to implement a mathematical formula.  <!-- connor -->\n",
    "-   Use functions to modularize code.  <!-- geppar -->\n",
    "-   Explain how variable scope impacts what the program \"sees\".  <!-- somzym -->\n",
    "-   Understand the difference between _returning_ a value and _printing_ a value.  <!-- dinlor -->\n",
    "-   Use default values in functions.  <!-- luxget -->"
   ]
  },
  {
   "cell_type": "markdown",
   "metadata": {},
   "source": [
    "### DNA Elements"
   ]
  },
  {
   "cell_type": "markdown",
   "metadata": {},
   "source": [
    "A DNA sequence is composed of adenine (`'A'`), guanine (`'G'`), cytosine (`'C'`), and thymine (`'T'`) nucleobases.  During the process of gene expression, RNA reads off each nucleobase with its opposite.  Thus an RNA sequence is a string containing uracil (`'U'`), cytosine (`'C'`), guanine (`'G'`), and adenine (`'A'`) bases<sup>[[Types of RNA](https://infogalactic.com/info/RNA#Types_of_RNA)]</sup>.  (Note that U pairs with A as RNA does not contain thymine.)\n",
    "\n",
    "| Symbol | Name     | Complementary Base |\n",
    "|--------|----------|--------------------|\n",
    "| A  | adenine  | T (DNA); U (RNA)   |\n",
    "| C  | cytosine | G                  |\n",
    "| G  | guanine  | C                  |\n",
    "| T  | thymine  | A                  |\n",
    "| U  | uracil   | A                  |\n",
    "\n",
    "This multi-part problem will lead you through processing DNA sequence data through transcription into RNA and then translating RNA sequences into codons.\n",
    "\n",
    "![](https://oerpub.github.io/epubjs-demo-book/resources/0324_DNA_Translation_and_Codons.jpg)\n",
    "\n",
    "In this notebook, you will create short programs and functions to carry out each part of this process."
   ]
  },
  {
   "cell_type": "markdown",
   "metadata": {},
   "source": [
    "#### Complementing DNA"
   ]
  },
  {
   "cell_type": "markdown",
   "metadata": {},
   "source": [
    "The first step in the process above is to transcribe DNA into RNA.  We are going to write two functions, which will use an accumulator pattern with a loop and some comparison logic to convert from DNA to RNA and backwards."
   ]
  },
  {
   "cell_type": "markdown",
   "metadata": {},
   "source": [
    "-   Write a function `dna2rna` which accepts a string `seq_dna` representing a template strand of DNA.  `dna2rna` should `return` a string `seq_rna` which should contain the RNA strand corresponding to its DNA input.  That is, the input `'ACGT'` should return `'UGCA'`.  The function can expect upper-case input.\n",
    "\n",
    "![](./img/dna2rna.png)"
   ]
  },
  {
   "cell_type": "code",
   "execution_count": null,
   "metadata": {
    "nbgrader": {
     "grade": false,
     "grade_id": "dna2rna",
     "locked": false,
     "schema_version": 3,
     "solution": true
    }
   },
   "outputs": [],
   "source": [
    "# define your function here\n",
    "def dna2rna( seq_dna ):\n",
    "    seq_rna = ''\n",
    "    for symbol in seq_dna:\n",
    "        if symbol == 'A':\n",
    "            seq_rna = seq_rna + 'U'\n",
    "        elif symbol == 'T':\n",
    "            # you write the rest of this function\n",
    "    return seq_rna"
   ]
  },
  {
   "cell_type": "code",
   "execution_count": null,
   "metadata": {
    "nbgrader": {
     "grade": true,
     "grade_id": "dna2rna-test",
     "locked": true,
     "points": 1,
     "schema_version": 3,
     "solution": false
    }
   },
   "outputs": [],
   "source": [
    "# it should pass this test---do NOT edit this cell\n",
    "# test for simple case\n",
    "assert dna2rna( 'CGAT' ) == 'GCUA'\n",
    "print( 'Success!' )"
   ]
  },
  {
   "cell_type": "code",
   "execution_count": null,
   "metadata": {
    "nbgrader": {
     "grade": true,
     "grade_id": "dna2rna-test-case",
     "locked": true,
     "points": 1,
     "schema_version": 3,
     "solution": false
    }
   },
   "outputs": [],
   "source": [
    "# it should pass this test---do NOT edit this cell\n",
    "# test for case insensitivity\n",
    "assert dna2rna( 'CGATAATTGCGGATTCAGATCGAAACGCG' ) == 'GCUAUUAACGCCUAAGUCUAGCUUUGCGC'\n",
    "print( 'Success!' )"
   ]
  },
  {
   "cell_type": "markdown",
   "metadata": {},
   "source": [
    "-   Now turn things around.  Write a function `rna2dna` which accepts a string `seq_rna` representing a template strand of RNA.  `rna2dna` should `return` a string `seq_dna` which should contain the DNA strand which corresponds to its RNA complement.  That is, the input `'ACGU'` should return `'TGCA'`.  The function can expect upper-case input."
   ]
  },
  {
   "cell_type": "code",
   "execution_count": null,
   "metadata": {
    "nbgrader": {
     "grade": false,
     "grade_id": "rna2dna",
     "locked": false,
     "schema_version": 3,
     "solution": true
    }
   },
   "outputs": [],
   "source": [
    "# define your function here\n",
    "def rna2dna( seq_rna ):\n",
    "    # you write this function"
   ]
  },
  {
   "cell_type": "code",
   "execution_count": null,
   "metadata": {
    "nbgrader": {
     "grade": true,
     "grade_id": "rna2dna-test",
     "locked": true,
     "points": 1,
     "schema_version": 3,
     "solution": false
    }
   },
   "outputs": [],
   "source": [
    "# it should pass this test---do NOT edit this cell\n",
    "# test for simple case\n",
    "assert rna2dna( 'CGAU' ) == 'GCTA'\n",
    "print( 'Success!' )"
   ]
  },
  {
   "cell_type": "code",
   "execution_count": null,
   "metadata": {
    "nbgrader": {
     "grade": true,
     "grade_id": "rna2dna-test-case",
     "locked": true,
     "points": 1,
     "schema_version": 3,
     "solution": false
    }
   },
   "outputs": [],
   "source": [
    "# it should pass this test---do NOT edit this cell\n",
    "# test for case insensitivity\n",
    "assert rna2dna( 'GCUAUUAACGCCUAAGUCUAGCUUUGCGC' ) == 'CGATAATTGCGGATTCAGATCGAAACGCG'\n",
    "print( 'Success!' )"
   ]
  },
  {
   "cell_type": "markdown",
   "metadata": {},
   "source": [
    "#### Mapping RNA to Amino Acids (Codons)"
   ]
  },
  {
   "cell_type": "markdown",
   "metadata": {},
   "source": [
    "At this point, you have two functions which can convert DNA and RNA from one representation to the other.  Next, we require the ability to translate an RNA string into a codon."
   ]
  },
  {
   "cell_type": "markdown",
   "metadata": {},
   "source": [
    "One of the major functions of RNA in the body is as “messenger RNA”, which contains groups of three-letter *codons* mapping to amino acids expressed in the cell.  Thus if we find `CUU CAG` in mRNA, we anticipate that the cell will create leucine and glutamine, written `LQ`:\n",
    "\n",
    "    'CUUCAG' → 'LQ'\n",
    "\n",
    "or, in terms of our program, we could write\n",
    "\n",
    "    rna2amino( 'CUU' )\n",
    "\n",
    "which yields\n",
    "\n",
    "    'L'\n",
    "    \n",
    "and so forth.\n",
    "\n",
    "The full table of codons follows.\n",
    "\n",
    "<table class=\"wikitable\">\n",
    "    <h4>Standard genetic code<sup><a href=\"https://en.wikipedia.org/wiki/Genetic_code#RNA_codon_table\">RNA codon table</a></sup></h4>\n",
    "<tr>\n",
    "<th rowspan=\"2\">1st<br />\n",
    "base</th>\n",
    "<th colspan=\"8\">2nd base</th>\n",
    "<th rowspan=\"2\">3rd<br />\n",
    "base</th>\n",
    "</tr>\n",
    "<tr>\n",
    "<th colspan=\"2\">U</th>\n",
    "<th colspan=\"2\">C</th>\n",
    "<th colspan=\"2\">A</th>\n",
    "<th colspan=\"2\">G</th>\n",
    "</tr>\n",
    "<tr>\n",
    "<th rowspan=\"4\">U</th>\n",
    "<td>UUU</td>\n",
    "<td rowspan=\"2\" style=\"background-color:#ffe75f\">(Phe/F) Phenylalanine</td>\n",
    "<td>UCU</td>\n",
    "<td rowspan=\"4\" style=\"background-color:#b3dec0\">(Ser/S) Serine</td>\n",
    "<td>UAU</td>\n",
    "<td rowspan=\"2\" style=\"background-color:#b3dec0\">(Tyr/Y) Tyrosine</td>\n",
    "<td>UGU</td>\n",
    "<td rowspan=\"2\" style=\"background-color:#b3dec0\">(Cys/C) Cysteine</td>\n",
    "<th>U</th>\n",
    "</tr>\n",
    "<tr>\n",
    "<td>UUC</td>\n",
    "<td>UCC</td>\n",
    "<td>UAC</td>\n",
    "<td>UGC</td>\n",
    "<th>C</th>\n",
    "</tr>\n",
    "<tr>\n",
    "<td>UUA</td>\n",
    "<td rowspan=\"6\" style=\"background-color:#ffe75f\">(Leu/L) Leucine</td>\n",
    "<td>UCA</td>\n",
    "<td>UAA</td>\n",
    "<td style=\"background-color:#B0B0B0;\">Stop (<i>Ochre</i>)</td>\n",
    "<td>UGA</td>\n",
    "<td style=\"background-color:#B0B0B0;\">Stop (<i>Opal</i>)</td>\n",
    "<th>A</th>\n",
    "</tr>\n",
    "<tr>\n",
    "<td>UUG</td>\n",
    "<td>UCG</td>\n",
    "<td>UAG</td>\n",
    "<td style=\"background-color:#B0B0B0;\">Stop (<i>Amber</i>)</td>\n",
    "<td>UGG</td>\n",
    "<td style=\"background-color:#ffe75f;\">(Trp/W) Tryptophan&#160;&#160;&#160;&#160;</td>\n",
    "<th>G</th>\n",
    "</tr>\n",
    "<tr>\n",
    "<th rowspan=\"4\">C</th>\n",
    "<td>CUU</td>\n",
    "<td>CCU</td>\n",
    "<td rowspan=\"4\" style=\"background-color:#ffe75f\">(Pro/P) Proline</td>\n",
    "<td>CAU</td>\n",
    "<td rowspan=\"2\" style=\"background-color:#bbbfe0\">(His/H) Histidine</td>\n",
    "<td>CGU</td>\n",
    "<td rowspan=\"4\" style=\"background-color:#bbbfe0\">(Arg/R) Arginine</td>\n",
    "<th>U</th>\n",
    "</tr>\n",
    "<tr>\n",
    "<td>CUC</td>\n",
    "<td>CCC</td>\n",
    "<td>CAC</td>\n",
    "<td>CGC</td>\n",
    "<th>C</th>\n",
    "</tr>\n",
    "<tr>\n",
    "<td>CUA</td>\n",
    "<td>CCA</td>\n",
    "<td>CAA</td>\n",
    "<td rowspan=\"2\" style=\"background-color:#b3dec0\">(Gln/Q) Glutamine</td>\n",
    "<td>CGA</td>\n",
    "<th>A</th>\n",
    "</tr>\n",
    "<tr>\n",
    "<td>CUG</td>\n",
    "<td>CCG</td>\n",
    "<td>CAG</td>\n",
    "<td>CGG</td>\n",
    "<th>G</th>\n",
    "</tr>\n",
    "<tr>\n",
    "<th rowspan=\"4\">A</th>\n",
    "<td>AUU</td>\n",
    "<td rowspan=\"3\" style=\"background-color:#ffe75f\">(Ile/I) Isoleucine</td>\n",
    "<td>ACU</td>\n",
    "<td rowspan=\"4\" style=\"background-color:#b3dec0\">(Thr/T) Threonine&#160;&#160;&#160;&#160;&#160;&#160;&#160;&#160;</td>\n",
    "<td>AAU</td>\n",
    "<td rowspan=\"2\" style=\"background-color:#b3dec0\">(Asn/N) Asparagine</td>\n",
    "<td>AGU</td>\n",
    "<td rowspan=\"2\" style=\"background-color:#b3dec0\">(Ser/S) Serine</td>\n",
    "<th>U</th>\n",
    "</tr>\n",
    "<tr>\n",
    "<td>AUC</td>\n",
    "<td>ACC</td>\n",
    "<td>AAC</td>\n",
    "<td>AGC</td>\n",
    "<th>C</th>\n",
    "</tr>\n",
    "<tr>\n",
    "<td>AUA</td>\n",
    "<td>ACA</td>\n",
    "<td>AAA</td>\n",
    "<td rowspan=\"2\" style=\"background-color:#bbbfe0\">(Lys/K) Lysine</td>\n",
    "<td>AGA</td>\n",
    "<td rowspan=\"2\" style=\"background-color:#bbbfe0\">(Arg/R) Arginine</td>\n",
    "<th>A</th>\n",
    "</tr>\n",
    "<tr>\n",
    "<td>AUG<sup class=\"reference\" id=\"ref_methionineA\">[A]</sup></td>\n",
    "<td style=\"background-color:#ffe75f;\">(Met/M) Methionine</td>\n",
    "<td>ACG</td>\n",
    "<td>AAG</td>\n",
    "<td>AGG</td>\n",
    "<th>G</th>\n",
    "</tr>\n",
    "<tr>\n",
    "<th rowspan=\"4\">G</th>\n",
    "<td>GUU</td>\n",
    "<td rowspan=\"4\" style=\"background-color:#ffe75f\">(Val/V) Valine</td>\n",
    "<td>GCU</td>\n",
    "<td rowspan=\"4\" style=\"background-color:#ffe75f\">(Ala/A) Alanine</td>\n",
    "<td>GAU</td>\n",
    "<td rowspan=\"2\" style=\"background-color:#f8b7d3\">(Asp/D) Aspartic acid</td>\n",
    "<td>GGU</td>\n",
    "<td rowspan=\"4\" style=\"background-color:#ffe75f\">(Gly/G) Glycine</td>\n",
    "<th>U</th>\n",
    "</tr>\n",
    "<tr>\n",
    "<td>GUC</td>\n",
    "<td>GCC</td>\n",
    "<td>GAC</td>\n",
    "<td>GGC</td>\n",
    "<th>C</th>\n",
    "</tr>\n",
    "<tr>\n",
    "<td>GUA</td>\n",
    "<td>GCA</td>\n",
    "<td>GAA</td>\n",
    "<td rowspan=\"2\" style=\"background-color:#f8b7d3\">(Glu/E) Glutamic acid</td>\n",
    "<td>GGA</td>\n",
    "<th>A</th>\n",
    "</tr>\n",
    "<tr>\n",
    "<td>GUG</td>\n",
    "<td>GCG</td>\n",
    "<td>GAG</td>\n",
    "<td>GGG</td>\n",
    "<th>G</th>\n",
    "</tr>\n",
    "</table>"
   ]
  },
  {
   "cell_type": "markdown",
   "metadata": {},
   "source": [
    "We provide the function `rna2amino` which accepts a three-letter codon and returns the corresponding amino acid.  This `genetic_code` is a `dict`, which you see in the lesson `python/dict`.  This `dict` can store tabular data for looking up later."
   ]
  },
  {
   "cell_type": "code",
   "execution_count": null,
   "metadata": {},
   "outputs": [],
   "source": [
    "genetic_code = {\n",
    "    'UUU': 'F', 'UUC': 'F', 'UUA': 'L', 'UUG': 'L',        'CUU': 'L', 'CUC': 'L', 'CUA': 'L', 'CUG': 'L',\n",
    "    'AUU': 'I', 'AUC': 'I', 'AUA': 'I', 'AUG': 'M',        'GUU': 'V', 'GUC': 'V', 'GUA': 'V', 'GUG': 'V',\n",
    "    \n",
    "    'UCU': 'S', 'UCC': 'S', 'UCA': 'S', 'UCG': 'S',        'CCU': 'P', 'CCC': 'P', 'CCA': 'P', 'CCG': 'P',\n",
    "    'ACU': 'T', 'ACC': 'T', 'ACA': 'T', 'ACG': 'T',        'GCU': 'A', 'GCC': 'A', 'GCA': 'A', 'GCG': 'A',\n",
    "    \n",
    "    'UAU': 'Y', 'UAC': 'Y', 'UAA': '*', 'UAG': '*',        'CAU': 'H', 'CAC': 'H', 'CAA': 'Q', 'CAG': 'Q',\n",
    "    'AAU': 'N', 'AAC': 'N', 'AAA': 'K', 'AAG': 'K',        'GAU': 'D', 'GAC': 'D', 'GAA': 'E', 'GAG': 'E',\n",
    "    \n",
    "    'UGU': 'C', 'UGC': 'C', 'UGA': '*', 'UGG': 'W',        'CGU': 'R', 'CGC': 'R', 'CGA': 'R', 'CGG': 'R',\n",
    "    'AGU': 'S', 'AGC': 'S', 'AGA': 'R', 'AGG': 'R',        'GGU': 'G', 'GGC': 'G', 'GGA': 'G', 'GGG': 'G',\n",
    "}\n",
    "allowed_codons = set('ACGU')\n",
    "\n",
    "def rna2amino(codon):\n",
    "    '''\n",
    "    Convert a three-letter RNA codon to an amino acid.\n",
    "    '''\n",
    "    # Check for the correct length of the codon.\n",
    "    if len(codon) != 3:\n",
    "        return None\n",
    "    codon = codon.upper()\n",
    "    # Check that the codon is valid.\n",
    "    if (set(codon) > allowed_codons):\n",
    "        return None\n",
    "    return genetic_code[codon]"
   ]
  },
  {
   "cell_type": "markdown",
   "metadata": {},
   "source": [
    "Now we can convert an RNA codon to an amino acid trivially using `rna2amino`.  Test it out with a few codons:"
   ]
  },
  {
   "cell_type": "code",
   "execution_count": null,
   "metadata": {},
   "outputs": [],
   "source": [
    "rna2amino( 'CGU' )"
   ]
  },
  {
   "cell_type": "markdown",
   "metadata": {},
   "source": [
    "-   We next need a function `str2seq` which accepts a string `rna_seq` containing RNA sequence data and maps it to amino acids.  This requires that you:\n",
    "    \n",
    "    1.  Break each string into three-letter chunks.\n",
    "    2.  For each chunk, map it to a valid amino acid codon according to the table below.  (We provide code for this step.)\n",
    "    3.  Return the result.\n",
    "    \n",
    "![](./img/str2seq.png)"
   ]
  },
  {
   "cell_type": "markdown",
   "metadata": {},
   "source": [
    "The tricky part is figuring out how to get a string chopped into three-letter chunks.  (This is harder than it seems at first.)  There are many ways you can think of to do this.  One possibility:"
   ]
  },
  {
   "cell_type": "code",
   "execution_count": null,
   "metadata": {},
   "outputs": [],
   "source": [
    "example_string = 'abcdefghijklmnopqrstuvwxyz'\n",
    "for i in range( 0,int( len( example_string ) / 3 ) ):\n",
    "    print( example_string[ 3*i:3*i+3 ] )"
   ]
  },
  {
   "cell_type": "code",
   "execution_count": null,
   "metadata": {
    "nbgrader": {
     "grade": false,
     "grade_id": "str2seq",
     "locked": false,
     "schema_version": 3,
     "solution": true
    }
   },
   "outputs": [],
   "source": [
    "# define your function here\n",
    "def str2seq( '''(delete this string and replace it with the incoming variables)''' ):\n",
    "    # divide the string into three-letter chunks\n",
    "    \n",
    "    # map each three-letter codon to a protein using rna2amino\n",
    "    \n",
    "    # append the protein to the result string\n",
    "    \n",
    "    # return the result string"
   ]
  },
  {
   "cell_type": "code",
   "execution_count": null,
   "metadata": {
    "nbgrader": {
     "grade": true,
     "grade_id": "str2seq-test1",
     "locked": true,
     "points": 1,
     "schema_version": 3,
     "solution": false
    }
   },
   "outputs": [],
   "source": [
    "# it should pass this test---do NOT edit this cell\n",
    "# test for simple case\n",
    "assert str2seq( 'ACUGAU' ) == 'TD'\n",
    "print( 'Success!' )"
   ]
  },
  {
   "cell_type": "code",
   "execution_count": null,
   "metadata": {
    "nbgrader": {
     "grade": true,
     "grade_id": "str2seq-test2",
     "locked": true,
     "points": 1,
     "schema_version": 3,
     "solution": false
    }
   },
   "outputs": [],
   "source": [
    "# it should pass this test---do NOT edit this cell\n",
    "# test for a more complicated case\n",
    "assert str2seq( 'AUCACUGUAGUAGUAGCUGGAAAGAGAAAUCUGUGACUCCAAUUAGCC' ) == 'ITVVVAGKRNL*LQLA'\n",
    "print( 'Success!' )"
   ]
  },
  {
   "cell_type": "code",
   "execution_count": null,
   "metadata": {
    "nbgrader": {
     "grade": true,
     "grade_id": "str2seq-test3",
     "locked": true,
     "points": 1,
     "schema_version": 3,
     "solution": false
    }
   },
   "outputs": [],
   "source": [
    "# it should pass this test---do NOT edit this cell\n",
    "# test for failure case\n",
    "try:\n",
    "    str2seq( 'ASDF' )\n",
    "except KeyError:\n",
    "    assert True\n",
    "else:\n",
    "    assert False\n",
    "print( 'Success!  You rejected invalid data.' )"
   ]
  },
  {
   "cell_type": "markdown",
   "metadata": {},
   "source": [
    "Finally, we are interested in taking a string of DNA sequence data, transcribing its RNA complement, and translating the resulting RNA to amino acids.  This requires that you:\n",
    "\n",
    "1.  Convert the string from DNA to RNA.  (Which function does this?)\n",
    "2.  Convert the RNA string to its corresponding protein expression string.  (Which function does this?)\n",
    "3.  Return the resulting string."
   ]
  },
  {
   "cell_type": "markdown",
   "metadata": {},
   "source": [
    "-   Write a function `dna2seq` which accepts a string `dna_seq`.  This function will `return` (NOT `print`) a string containing the amino acids described in the string `dna_seq`.\n",
    "\n",
    "![](./img/dna2seq.png)"
   ]
  },
  {
   "cell_type": "code",
   "execution_count": null,
   "metadata": {
    "nbgrader": {
     "grade": false,
     "grade_id": "dna2seq",
     "locked": false,
     "schema_version": 3,
     "solution": true
    }
   },
   "outputs": [],
   "source": [
    "# define your function here\n",
    "def dna2seq( '''(delete this string and replace it with the incoming variables)''' ):\n",
    "    result = ''\n",
    "    \n",
    "    # Convert the string from DNA to RNA. (Which function does this?)\n",
    "    \n",
    "    # Convert the RNA string to its corresponding protein expression string. (Which function does this?)\n",
    "    \n",
    "    # Return the resulting string."
   ]
  },
  {
   "cell_type": "code",
   "execution_count": null,
   "metadata": {
    "nbgrader": {
     "grade": true,
     "grade_id": "dna2seq-test",
     "locked": true,
     "points": 2,
     "schema_version": 3,
     "solution": false
    }
   },
   "outputs": [],
   "source": [
    "# it should pass this test---do NOT edit this cell\n",
    "# test for simple case\n",
    "test_data = 'ATGTTTTCCGGTGGCGGCGGCCCGCTGTCCCCCGGAGGAAAGTCGGCGGCCAGGGCGGCGTCCGGGTTTTTTGCGCCCGCCGGCCCTCGCGGAGCCGGCCGGGGACCCCCGCCTTGCTTGAGGCAAAACTTTTACAACCCCTACCTCGCCCCAGTCGGGACGCAACAGAAGCCGACCGGGCCAACCCAGCGCCATACGTACTATAGCGAATGCGATGAATTTCGATTCATCGCCCCGCGGGTGCTGGACGAGGATGCCCCCCCGGAGAAGCGCGCCGGGGTGCACGACGGTCACCTCAAGCGCGCCCCCAAGGTGTACTGCGGGGGGGACGAGCGCGACGTCCTCCGCGTCGGGTCGGGCGGCTTCTGGCCGCGGCGCTCGCGCCTGTGGGGCGGCGTGGACCACGCCCCGGCGGGGTTCAACCCCACCGTCACCGTCTTTCACGTGTACGACATCCTGGAGAACGTGGAGCACGCGTAC'\n",
    "assert dna2seq( test_data ) == 'YKRPPPPGDRGPPFSRRSRRRPKKRGRPGAPRPAPGGGTNSVLKMLGMERGQPCVVFGWPGWVAVCMISLTLLKAK*RGAHDLLLRGGLFARPHVLPVEFARGFHMTPPLLALQEAQPSPPKTGAASADTPPHLVRGRPKLGWQWQKVHML*DLLHLVRM'\n",
    "print( 'Success!' )"
   ]
  }
 ],
 "metadata": {
  "anaconda-cloud": {},
  "celltoolbar": "Create Assignment",
  "kernelspec": {
   "display_name": "Python 3",
   "language": "python",
   "name": "python3"
  },
  "language_info": {
   "codemirror_mode": {
    "name": "ipython",
    "version": 3
   },
   "file_extension": ".py",
   "mimetype": "text/x-python",
   "name": "python",
   "nbconvert_exporter": "python",
   "pygments_lexer": "ipython3",
   "version": "3.8.5"
  }
 },
 "nbformat": 4,
 "nbformat_minor": 1
}
