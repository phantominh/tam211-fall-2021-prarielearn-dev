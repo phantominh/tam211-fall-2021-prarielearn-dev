{
 "cells": [
  {
   "cell_type": "markdown",
   "metadata": {},
   "source": [
    "## `lab05`—Debugging"
   ]
  },
  {
   "cell_type": "markdown",
   "metadata": {},
   "source": [
    "![](./img/lab05-header-bkgd.png)"
   ]
  },
  {
   "cell_type": "markdown",
   "metadata": {},
   "source": [
    "Objectives\n",
    "\n",
    "-   Learn how to debug code using a standard process of investigation.\n",
    "-   Assess peer code to identify strengths and weaknesses.\n",
    "\n",
    "This activity-based lab will challenge you to apply a flowchart process to debug codes so that they perform as intended.  The lab is divided into two segments:  Debugging and Peer Assessment.\n",
    "\n",
    "**You should record your work and submit your own notebook for the lab grade.**"
   ]
  },
  {
   "cell_type": "markdown",
   "metadata": {},
   "source": [
    "### Debugging Activity (25 minutes)"
   ]
  },
  {
   "cell_type": "markdown",
   "metadata": {},
   "source": [
    "The first part of the lab, Debugging, will ask you to examine a code with a stated objective.  Unfortunately, this code was sloppily written and several bugs were introduced during its composition.  Your goal is to identify and correct all of those bugs.  You will have 10 minutes (timed) to work on identifying and fixing bugs alone, and then 10 minutes with a partner to finish it up.  The TA then has 5 minutes to clear up any questions that arose.\n",
    "\n",
    "---\n",
    "\n",
    "Wait for your TA to tell you to start and then work on debugging the following code."
   ]
  },
  {
   "cell_type": "code",
   "execution_count": null,
   "metadata": {},
   "outputs": [],
   "source": [
    "# This code should accept a positive nonzero integer from the user.\n",
    "# It should then calculate all integral factors of that number.\n",
    "\n",
    "# The following code contains NOT LESS THAN FIVE bugs.\n",
    "# It should pass the following test cases:\n",
    "#   100 -> 100, 50, 25, 20, 10, 5, 4, 2, 1\n",
    "#   69 -> 69, 23, 3, 1\n",
    "#   14.5 -> should be rejected (not raise exception)\n",
    "#   a -> should be rejected (not raise exception)\n",
    "#   0 -> should be rejected (not raise exception)\n",
    "\n",
    "#########################################################\n",
    "def is_divisible( a, b ):\n",
    "    \"\"\"\n",
    "    Determine if integer a is divisible by integer b.\n",
    "    \"\"\"\n",
    "\n",
    "    remainder = a % b\n",
    "\n",
    "    # if remainder is zero, then a is divisible by b\n",
    "    return remainder == 0\n",
    "\n",
    "\n",
    "#########################################################\n",
    "def find_divisors( integer ):\n",
    "    \"\"\"\n",
    "    Find all divisors of an integer and return them as a list.\n",
    "    \"\"\"\n",
    "\n",
    "    divisors = []\n",
    "    # we know that an integer divides itself\n",
    "    divisors.append(integer)\n",
    "\n",
    "    # we also know that the biggest divisor other than the integer\n",
    "    # itself must be at most half the value of the integer\n",
    "    divisor = integer / 2\n",
    "\n",
    "    while divisor >= 0:\n",
    "        if is_divisible(integer, divisor):\n",
    "            divisors.append(divisor)\n",
    "        divisor =- 1\n",
    "\n",
    "    return divisors\n",
    "\n",
    "\n",
    "#########################################################\n",
    "def main():\n",
    "    input_a = input('a=')\n",
    "\n",
    "    # do some checking of the user's input\n",
    "    # is it a number?\n",
    "    if input_a.isalnum():\n",
    "        a = int(input_a)\n",
    "    else:\n",
    "        print( 'Please enter an integer.' )\n",
    "\n",
    "    # is it nonnegative?\n",
    "    if a < 0:\n",
    "        print( 'The number should be nonnegative.' )\n",
    "\n",
    "    divisors = find_divisors( a )\n",
    "\n",
    "    # print the results\n",
    "    print( \"The divisors of %d are:\" % a )\n",
    "    for divisor in divisors:\n",
    "        print ( divisor )\n",
    "\n",
    "\n",
    "#########################################################\n",
    "# This is the main entry point of the program.\n",
    "if __name__ == '__main__':\n",
    "    main()"
   ]
  },
  {
   "cell_type": "code",
   "execution_count": null,
   "metadata": {},
   "outputs": [],
   "source": [
    "# test the code here if necessary"
   ]
  },
  {
   "cell_type": "code",
   "execution_count": null,
   "metadata": {},
   "outputs": [],
   "source": [
    "# test the code here if necessary"
   ]
  },
  {
   "cell_type": "markdown",
   "metadata": {},
   "source": [
    "---"
   ]
  },
  {
   "cell_type": "markdown",
   "metadata": {},
   "source": [
    "### Peer Assessment Activity"
   ]
  },
  {
   "cell_type": "markdown",
   "metadata": {},
   "source": [
    "In order to carry out the peer assessment portion of this lab, you are going to examine submissions which other students made for two problems from `quiz1`.  These are anonymized by random numbers, and each person will retrieve a different set of submissions to assess."
   ]
  },
  {
   "cell_type": "markdown",
   "metadata": {},
   "source": [
    "The next cell will fetch your peer grading examples.  (Please take note of the `try`/`except` block, which attempts to locate each numbered submission generated above.)"
   ]
  },
  {
   "cell_type": "code",
   "execution_count": null,
   "metadata": {},
   "outputs": [],
   "source": [
    "import numpy as np\n",
    "test_cases = []\n",
    "test_cases.extend( list( np.random.choice( range( 769,850 ),replace=False,size=(2,) ) ) )\n",
    "test_cases.extend( list( np.random.choice( range( 901,976 ),replace=False,size=(2,) ) ) )\n",
    "\n",
    "# retrieve peer submissions via randomized code\n",
    "import os, shutil\n",
    "for test_case in test_cases:\n",
    "    try:\n",
    "        filepath = os.path.join( '/class/cs101/data/hashes','%i.py'%test_case )\n",
    "        shutil.copy2( filepath, '.' )\n",
    "    except FileNotFoundError:\n",
    "        print( 'Please try again.  I was unable to locate %s.py; do you have the correct number?'%test_case )\n",
    "        break"
   ]
  },
  {
   "cell_type": "markdown",
   "metadata": {},
   "source": [
    "You have now received four peer submissions in your `lab05` directory.  Your task is to assess these codes, critique them for correctness and style, and record that critique below.\n",
    "\n",
    "Examine the file in another window (either on the command line or in a text editor).  You can also run the codes on the command line using `python XXX.py`, where `XXX` is the number.\n",
    "\n",
    "Double-click a cell below to edit it.  In each cell, enter the number of the code you are assessing.  Then answer the questions as thoroughly as you can.  You have ten minutes available to assess each code---get as much done as you can in that time.  Then you can work in your groups (or discuss, as your TA decides) for five minutes."
   ]
  },
  {
   "cell_type": "markdown",
   "metadata": {},
   "source": [
    "---\n",
    "\n",
    "### Evaluate a Gaussian cumulative distribution function\n",
    "\n",
    "A cumulative distribution function, or CDF, tells you how likely a sampled random variable is to occur with a certain value.  For the bell-shaped Gaussian (or normal) distribution, the CDF is\n",
    "\n",
    "$$\n",
    "\\text{cdf}(x)\n",
    "=\n",
    "\\frac{1}{2} \\left[1 + \\text{erf}\\left(\\frac{x}{\\sqrt{2}} \\right)\\right]\n",
    "\\text{.}\n",
    "$$\n",
    "\n",
    "That is, for a given value $x$, $\\text{cdf}(x)$ tells you how likely a sample from the distribution is to have a value less than or equal to this value.\n",
    "\n",
    "**Calculate the value of the expression for $\\text{cdf}$ at $x=\\pi$.**  Although you may compose a function if you prefer, I expect you to solve the expression correctly and store the resulting `float` value in a variable named `cdf`.  You will need the _error function_ $\\text{erf}$, which is available in the `math` module as `erf`.\n",
    "\n",
    "You _should_ provide values for $\\text{erf}$ and $\\pi$ from a module such as `math`.\n",
    "\n",
    "If your expression is correct, then for an `x` of `0.5*math.pi`, `cdf` should be about `0.942`.\n",
    "\n",
    "Your submission should include a `float` named `cdf`."
   ]
  },
  {
   "cell_type": "markdown",
   "metadata": {},
   "source": [
    "### Peer Code Assessment #1\n",
    "\n",
    "- Which code number are you assessing?"
   ]
  },
  {
   "cell_type": "code",
   "execution_count": null,
   "metadata": {},
   "outputs": [],
   "source": []
  },
  {
   "cell_type": "markdown",
   "metadata": {},
   "source": [
    "#### Correctness\n",
    "\n",
    "- Does this code define the correct function(s)?\n",
    "\n",
    "- Do the functions return the proper types?\n",
    "\n",
    "- Is the approach generally valid?  (I.e., if one or two things were adjusted, would the code work properly?)\n",
    "\n",
    "- What needs to be corrected?  Write a corrected version.  (You can write code below.)"
   ]
  },
  {
   "cell_type": "code",
   "execution_count": null,
   "metadata": {},
   "outputs": [],
   "source": []
  },
  {
   "cell_type": "markdown",
   "metadata": {},
   "source": [
    "#### Style\n",
    "\n",
    "- Is the code well-documented?\n",
    "\n",
    "- Are the variable names descriptive?\n",
    "\n",
    "- Are line breaks and formatting conducive to reading and understanding the code?\n",
    "\n",
    "- Do all parts of the code play a rôle or are some of them unnecessary?"
   ]
  },
  {
   "cell_type": "markdown",
   "metadata": {},
   "source": [
    "### Peer Code Assessment #2\n",
    "\n",
    "- Which code number are you assessing?"
   ]
  },
  {
   "cell_type": "code",
   "execution_count": null,
   "metadata": {},
   "outputs": [],
   "source": []
  },
  {
   "cell_type": "markdown",
   "metadata": {},
   "source": [
    "#### Correctness\n",
    "\n",
    "- Does this code define the correct function(s)?\n",
    "\n",
    "- Do the functions return the proper types?\n",
    "\n",
    "- Is the approach generally valid?  (I.e., if one or two things were adjusted, would the code work properly?)\n",
    "\n",
    "- What needs to be corrected?  Write a corrected version.  (You can write code below.)"
   ]
  },
  {
   "cell_type": "code",
   "execution_count": null,
   "metadata": {},
   "outputs": [],
   "source": []
  },
  {
   "cell_type": "markdown",
   "metadata": {},
   "source": [
    "#### Style\n",
    "\n",
    "- Is the code well-documented?\n",
    "\n",
    "- Are the variable names descriptive?\n",
    "\n",
    "- Are line breaks and formatting conducive to reading and understanding the code?\n",
    "\n",
    "- Do all parts of the code play a rôle or are some of them unnecessary?"
   ]
  },
  {
   "cell_type": "markdown",
   "metadata": {},
   "source": [
    "### Evaluate the Wigner–Wilkins equation\n",
    "\n",
    "The Wigner–Wilkins equation is used in nuclear physics to model a proton gas.\n",
    "\n",
    "$$\n",
    "W(x)\n",
    "=\n",
    "\\frac{x^{2}}{P(x)}-\\frac{\\exp\\left( -x^{2} \\right)}{P(x)}\n",
    "$$\n",
    "\n",
    "where\n",
    "\n",
    "$$\n",
    "P(x)\n",
    "=\n",
    "\\exp\\left( -x^{2} \\right) + \\sqrt{\\pi} x \\text{erf} \\left( x \\right)\n",
    "\\text{.}\n",
    "$$\n",
    "\n",
    "Here, I want you to write an expression for $P$ only.\n",
    "\n",
    "**Calculate the value of the expression for $P$ at $x=1$.**  Although you may compose a function if you prefer, I expect you to solve the expression correctly and store the resulting `float` value in a variable named `P`.  You will need the _error function_ $\\text{erf}$, which is available in the `math` module as `erf`.\n",
    "\n",
    "You _should_ provide values for $\\pi$ and $e$ from a module such as `math`.\n",
    "\n",
    "If your expression is correct, then for an `x` of `0.5`, `P` should be about `1.24`.\n",
    "\n",
    "Your submission should include a `float` named `P`."
   ]
  },
  {
   "cell_type": "markdown",
   "metadata": {},
   "source": [
    "### Peer Code Assessment #3\n",
    "\n",
    "- Which code number are you assessing?"
   ]
  },
  {
   "cell_type": "code",
   "execution_count": null,
   "metadata": {},
   "outputs": [],
   "source": []
  },
  {
   "cell_type": "markdown",
   "metadata": {},
   "source": [
    "#### Correctness\n",
    "\n",
    "- Does this code define the correct function(s)?\n",
    "\n",
    "- Do the functions return the proper types?\n",
    "\n",
    "- Is the approach generally valid?  (I.e., if one or two things were adjusted, would the code work properly?)\n",
    "\n",
    "- What needs to be corrected?  Write a corrected version.  (You can write code below.)"
   ]
  },
  {
   "cell_type": "code",
   "execution_count": null,
   "metadata": {},
   "outputs": [],
   "source": []
  },
  {
   "cell_type": "markdown",
   "metadata": {},
   "source": [
    "#### Style\n",
    "\n",
    "- Is the code well-documented?\n",
    "\n",
    "- Are the variable names descriptive?\n",
    "\n",
    "- Are line breaks and formatting conducive to reading and understanding the code?\n",
    "\n",
    "- Do all parts of the code play a rôle or are some of them unnecessary?"
   ]
  },
  {
   "cell_type": "markdown",
   "metadata": {},
   "source": [
    "### Peer Code Assessment #4\n",
    "\n",
    "- Which code number are you assessing?"
   ]
  },
  {
   "cell_type": "code",
   "execution_count": null,
   "metadata": {},
   "outputs": [],
   "source": []
  },
  {
   "cell_type": "markdown",
   "metadata": {},
   "source": [
    "#### Correctness\n",
    "\n",
    "- Does this code define the correct function(s)?\n",
    "\n",
    "- Do the functions return the proper types?\n",
    "\n",
    "- Is the approach generally valid?  (I.e., if one or two things were adjusted, would the code work properly?)\n",
    "\n",
    "- What needs to be corrected?  Write a corrected version.  (You can write code below.)"
   ]
  },
  {
   "cell_type": "code",
   "execution_count": null,
   "metadata": {},
   "outputs": [],
   "source": []
  },
  {
   "cell_type": "markdown",
   "metadata": {},
   "source": [
    "#### Style\n",
    "\n",
    "- Is the code well-documented?\n",
    "\n",
    "- Are the variable names descriptive?\n",
    "\n",
    "- Are line breaks and formatting conducive to reading and understanding the code?\n",
    "\n",
    "- Do all parts of the code play a rôle or are some of them unnecessary?"
   ]
  },
  {
   "cell_type": "markdown",
   "metadata": {},
   "source": [
    "Once you're done, please go ahead and save and `Submit` this lab notebook, and you're done for the day."
   ]
  }
 ],
 "metadata": {
  "anaconda-cloud": {},
  "kernelspec": {
   "display_name": "Python 3",
   "language": "python",
   "name": "python3"
  },
  "language_info": {
   "codemirror_mode": {
    "name": "ipython",
    "version": 3
   },
   "file_extension": ".py",
   "mimetype": "text/x-python",
   "name": "python",
   "nbconvert_exporter": "python",
   "pygments_lexer": "ipython3",
   "version": "3.7.4"
  }
 },
 "nbformat": 4,
 "nbformat_minor": 1
}
