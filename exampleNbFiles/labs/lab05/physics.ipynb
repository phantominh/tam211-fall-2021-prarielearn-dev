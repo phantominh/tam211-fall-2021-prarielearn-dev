{
 "cells": [
  {
   "cell_type": "markdown",
   "metadata": {},
   "source": [
    "## `lab05`—Scientific Applications with `sympy`"
   ]
  },
  {
   "cell_type": "markdown",
   "metadata": {},
   "source": [
    "![](./img/header.png)"
   ]
  },
  {
   "cell_type": "markdown",
   "metadata": {},
   "source": [
    "Objectives\n",
    "\n",
    "-   Plot expressions using SymPy.\n",
    "-   Apply scientific modeling across a series of case studies."
   ]
  },
  {
   "cell_type": "markdown",
   "metadata": {},
   "source": [
    "### Kepler's Laws"
   ]
  },
  {
   "cell_type": "markdown",
   "metadata": {},
   "source": [
    "In 1617, Johannes Kepler published _Epitome astronomiae Copernicanae_ (or _Epitome of Copernican Astronomy)_, which introduced his celebrated laws of motion.\n",
    "\n",
    "[Kepler's three laws of motion](https://en.wikibooks.org/wiki/General_Astronomy/Kepler%27s_Laws) introduce a mathematical model of elliptical (rather than circular) orbits.  They are:\n",
    "\n",
    "1.  The orbits of the planets are ellipses, with the sun at one focus.\n",
    "2.  The line between a planet and the sun sweeps out equal areas in the plane of the planet's orbit over equal times.\n",
    "3.  The time required for a planet to orbit the sun, called its period, is proportional to half the long axis of the ellipse raised to the 3/2 power.\n",
    "\n",
    "In this portion of the lab, you will carry out calculations in support or demonstration of these laws."
   ]
  },
  {
   "cell_type": "markdown",
   "metadata": {},
   "source": [
    "##### Elliptical Orbits"
   ]
  },
  {
   "cell_type": "markdown",
   "metadata": {},
   "source": [
    "An elliptical orbit has two bodies moving such that the lighter body orbits the heavier body as one focus of an ellipse.\n",
    "\n",
    "![](https://upload.wikimedia.org/wikipedia/commons/c/c9/Kepler1.gif)\n",
    "\n",
    "For real planets, the foci are quite close, as planetary orbits are only _slightly_ eccentric.  For comets and other bodies, the foci may lie far apart.\n",
    "\n",
    "An equation describing the elliptical orbit may be written:\n",
    "\n",
    "$$\n",
    "\\frac{x^2}{a^2} + \\frac{y^2}{b^2}\n",
    "=\n",
    "1\n",
    "$$\n",
    "\n",
    "with eccentricity $e$ described by $b^2 = a^2\\left( 1 - e^2 \\right)$.  $a$ and $b$ are the _semimajor_ and _semiminor_ axes, respectively, of the ellipse."
   ]
  },
  {
   "cell_type": "code",
   "execution_count": null,
   "metadata": {},
   "outputs": [],
   "source": [
    "import sympy\n",
    "x,y,a,b,e = sympy.S( 'x,y,a,b,e' )"
   ]
  },
  {
   "cell_type": "markdown",
   "metadata": {},
   "source": [
    "In preparation for solving and plotting an orbit, we suppose that we are given the eccentricity $e$ and semimajor axis $a$, and need to obtain $b$ from that information.  First, solve for $b$ as `b_soln`:"
   ]
  },
  {
   "cell_type": "code",
   "execution_count": null,
   "metadata": {},
   "outputs": [],
   "source": [
    "b_soln = ___\n",
    "\n",
    "print( b_soln )"
   ]
  },
  {
   "cell_type": "markdown",
   "metadata": {},
   "source": [
    "Next, `subs`titute in the values `e = 0.2056` and `a = 57909050000`, using SI units for convenience.  (These are the values for the planet Mercury ☿.)"
   ]
  },
  {
   "cell_type": "code",
   "execution_count": null,
   "metadata": {},
   "outputs": [],
   "source": [
    "e_ = 0.2056\n",
    "a_ = 57909050000\n",
    "b_ = b_soln[ 1 ].___\n",
    "\n",
    "print( 'e = %f; a = %f; b = %f' % ( e_,a_,b_ ) )"
   ]
  },
  {
   "cell_type": "markdown",
   "metadata": {},
   "source": [
    "Now that we know $a$ and $b$, we can solve for the elliptical orbit.\n",
    "\n",
    "Solving for $y$ in terms of $x$ will lead to multiple expressions since the ellipse is multivalued along the $x$ axis."
   ]
  },
  {
   "cell_type": "code",
   "execution_count": null,
   "metadata": {},
   "outputs": [],
   "source": [
    "y_ = sympy.solve( ___,y )\n",
    "\n",
    "print( y_ )"
   ]
  },
  {
   "cell_type": "markdown",
   "metadata": {},
   "source": [
    "We plot using a library we haven't seen yet, MatPlotLib.  This is actually the library behind SymPy's plotting ability, and we'll examine it during `num/plotting`.\n",
    "\n",
    "A true circle is shown in red underlying the eccentric ellipse."
   ]
  },
  {
   "cell_type": "code",
   "execution_count": null,
   "metadata": {},
   "outputs": [],
   "source": [
    "# Plotting boilerplate---leave this as-is.\n",
    "import matplotlib as mpl\n",
    "import matplotlib.pyplot as plt\n",
    "%matplotlib inline\n",
    "import seaborn as sns\n",
    "sns.set_context( 'talk',font_scale=1.5,rc={ 'lines.linewidth':5 } )"
   ]
  },
  {
   "cell_type": "code",
   "execution_count": null,
   "metadata": {},
   "outputs": [],
   "source": [
    "# Plotting code.\n",
    "plot1 = sympy.plotting.plot_parametric( ( x,y_[ 0 ] ),( x,-1e12,1e12 ),show=False )\n",
    "plot2 = sympy.plotting.plot_parametric( ( x,y_[ 1 ] ),( x,-1e12,1e12 ),show=False )\n",
    "plot_circle1 = sympy.plotting.plot_parametric( ( x,+(-x**2 + 3353458071902500000000)**0.5 ),( x,-1e12,1e12 ),show=False,line_color='red' )\n",
    "plot_circle2 = sympy.plotting.plot_parametric( ( x,-(-x**2 + 3353458071902500000000)**0.5 ),( x,-1e12,1e12 ),show=False,line_color='red' )\n",
    "plot_circle1.append( plot_circle2[ 0 ] )\n",
    "plot_circle1.append( plot1[ 0 ] )\n",
    "plot_circle1.append( plot2[ 0 ] )\n",
    "mpl.rcParams[ 'figure.figsize' ] = 10,10   # make the figure square, necessary in Jupyter\n",
    "plot_circle1.show()"
   ]
  },
  {
   "cell_type": "markdown",
   "metadata": {},
   "source": [
    "##### Equal Area in Equal Time"
   ]
  },
  {
   "cell_type": "markdown",
   "metadata": {},
   "source": [
    "Kepler's second law posits that the orbiting planet's velocity varies such that the same area is swept out during the same time.\n",
    "\n",
    "![](https://upload.wikimedia.org/wikipedia/commons/7/75/Kepler2.gif)\n",
    "\n",
    "![](https://upload.wikimedia.org/wikipedia/commons/thumb/6/69/Kepler-second-law.gif/220px-Kepler-second-law.gif)\n",
    "\n",
    "As you can imagine, this becomes a somewhat complicated integral to write, depending on the term we solve for.  For convenience, we will switch to polar terms in our expression.\n",
    "\n",
    "$$\n",
    "\\frac{dA}{dt}\n",
    "=\n",
    "\\frac{1}{2}r^2 \\frac{d\\theta}{dt}\n",
    "$$\n",
    "\n",
    "and thus some calculus and algebra yield\n",
    "\n",
    "$$\n",
    "A(t)\n",
    "=\n",
    "\\int_{\\theta_0}^{\\theta_1} d\\theta\\, \\frac{r^2}{2}\n",
    "=\n",
    "\\frac{1}{2} ab \\left( \\theta_1 - \\theta_0 \\right)\n",
    "\\text{.}\n",
    "$$\n",
    "\n",
    "The largest $t$ is the period of the orbit, and the planet sweeps out the area of the ellipse $\\pi ab$ during that time.\n",
    "\n",
    "$$\n",
    "A(P)\n",
    "=\n",
    "\\frac{1}{2} ab \\left( 2\\pi - 0 \\right)\n",
    "=\n",
    "\\pi ab\n",
    "$$\n",
    "\n",
    "Use SymPy to verify that the area traced from $\\theta \\in \\left[ 0,\\frac{\\pi}{4} \\right]$ is the same as that traced from $\\theta \\in \\left[ \\frac{3\\pi}{8},\\frac{5\\pi}{8} \\right]$.\n",
    "\n",
    "Since SymPy doesn't like `float`s, prefering rational numbers, use `/2` not `*0.5` when figuring the one-half ratio."
   ]
  },
  {
   "cell_type": "code",
   "execution_count": null,
   "metadata": {
    "nbgrader": {
     "grade": false,
     "grade_id": "cell-2ada0376f491a468",
     "locked": false,
     "schema_version": 3,
     "solution": true
    }
   },
   "outputs": [],
   "source": [
    "area_1 = ___\n",
    "area_2 = ___"
   ]
  },
  {
   "cell_type": "code",
   "execution_count": null,
   "metadata": {
    "nbgrader": {
     "grade": true,
     "grade_id": "cell-0903030db1d816bc",
     "locked": true,
     "points": 1,
     "schema_version": 3,
     "solution": false
    }
   },
   "outputs": [],
   "source": [
    "# it should pass this test---do NOT edit this cell\n",
    "from math import isclose\n",
    "assert ( area_1 == area_2 ) and (( area_1 == sympy.pi*a*b/8 ) or ( area_1 == float(sympy.pi*a*b/8) ))\n",
    "print( 'Success!' )"
   ]
  },
  {
   "cell_type": "markdown",
   "metadata": {},
   "source": [
    "##### Proportionality of Periods"
   ]
  },
  {
   "cell_type": "markdown",
   "metadata": {},
   "source": [
    "Given the period of a planet or satellite, one can determine how wide the orbit is, and _vice versa_.\n",
    "\n",
    "$$\n",
    "P^2\n",
    "\\propto\n",
    "a^3\n",
    "$$\n",
    "\n",
    "where $P$ is the period in years and $a$ is the length of the semimajor axis in astronomical units (not SI units as above).\n",
    "\n",
    "Calculate the period of Mars ♂︎ given that its semimajor axis is $a = 1.87 \\,\\text{AU}$."
   ]
  },
  {
   "cell_type": "code",
   "execution_count": null,
   "metadata": {
    "nbgrader": {
     "grade": false,
     "grade_id": "cell-ab084336c256f58e",
     "locked": false,
     "schema_version": 3,
     "solution": true
    }
   },
   "outputs": [],
   "source": [
    "P = ___"
   ]
  },
  {
   "cell_type": "code",
   "execution_count": null,
   "metadata": {
    "nbgrader": {
     "grade": true,
     "grade_id": "cell-1008d824d54d7721",
     "locked": true,
     "points": 1,
     "schema_version": 3,
     "solution": false
    }
   },
   "outputs": [],
   "source": [
    "# it should pass this test---do NOT edit this cell\n",
    "test_P,test_a = sympy.S( 'P,a' )\n",
    "from math import isclose\n",
    "assert ( P == test_a.subs( test_a,1.87 ) ** ( 3 / 2 ) ) or ( isclose( P,1.87,rel_tol=1e-2 ) )\n",
    "print( 'Success!' )"
   ]
  },
  {
   "cell_type": "markdown",
   "metadata": {},
   "source": [
    "Calculate the semimajor axis of Jupiter ♃ given that its period is $11.86 \\,\\text{yr}$."
   ]
  },
  {
   "cell_type": "code",
   "execution_count": null,
   "metadata": {
    "nbgrader": {
     "grade": false,
     "grade_id": "cell-72b3e4058171eaaf",
     "locked": false,
     "schema_version": 3,
     "solution": true
    }
   },
   "outputs": [],
   "source": [
    "a = ___"
   ]
  },
  {
   "cell_type": "code",
   "execution_count": null,
   "metadata": {
    "nbgrader": {
     "grade": true,
     "grade_id": "cell-839539944c4d5c32",
     "locked": true,
     "points": 1,
     "schema_version": 3,
     "solution": false
    }
   },
   "outputs": [],
   "source": [
    "# it should pass this test---do NOT edit this cell\n",
    "test_P,test_a = sympy.S( 'P,a' )\n",
    "from math import isclose\n",
    "assert ( a == test_P.subs( test_P,11.86 ) ** ( 2 / 3 ) ) or ( isclose( P,5.2,rel_tol=1e-2 ) )\n",
    "print( 'Success!' )"
   ]
  },
  {
   "cell_type": "markdown",
   "metadata": {},
   "source": [
    "### Trajectories"
   ]
  },
  {
   "cell_type": "markdown",
   "metadata": {},
   "source": [
    "A basic ballistic trajectory is subject only to the initial impetus.  More advanced trajectory calculations include thrust during flight and the action of external forces such as gravity.  Drag can be considered among the relevant forces as well.\n",
    "\n",
    "In this section, we will calculate some trajectories by position and velocity."
   ]
  },
  {
   "cell_type": "markdown",
   "metadata": {},
   "source": [
    "##### Simple Trajectory"
   ]
  },
  {
   "cell_type": "markdown",
   "metadata": {},
   "source": [
    "A simple trajectory describes an object moving only from the initial impulse, such as a rocket in deep space with the engines powered down.  We write the velocity as constant $v_0$, and integrate to obtain the position $x(t)$ as a function of $v_0$.\n",
    "\n",
    "$$\n",
    "v(t)\n",
    "=\n",
    "v_0\n",
    "$$\n",
    "\n",
    "$$\n",
    "x(t)\n",
    "=\n",
    "\\int_{\\tau=t_0}^{t} d\\tau\\, v_0\n",
    "$$\n",
    "\n",
    "(We will use the Greek equivalent of Roman letters as the variables of integration since $t$ means the current time.)"
   ]
  },
  {
   "cell_type": "code",
   "execution_count": null,
   "metadata": {},
   "outputs": [],
   "source": [
    "x,x0,v,v0,tau,t,tf = sympy.S( 'x,x0,v,v0,tau,t,tf' )\n",
    "v = ___\n",
    "x = sympy.integrate( v.subs( t,tau ),( tau,0,t ) )   # Note that tau not t is our variable of integration, so we subs it."
   ]
  },
  {
   "cell_type": "markdown",
   "metadata": {},
   "source": [
    "We plot velocity $v$ in red and position $x$ in blue."
   ]
  },
  {
   "cell_type": "code",
   "execution_count": null,
   "metadata": {},
   "outputs": [],
   "source": [
    "plot_v = sympy.plotting.plot( v.subs( v0,10 ),( t,0,10 ),line_color='red',show=False )\n",
    "plot_x = sympy.plotting.plot( x.subs( v0,10 ),( t,0,10 ),show=False )\n",
    "plot_v.append( plot_x[ 0 ] )\n",
    "plot_v.show()"
   ]
  },
  {
   "cell_type": "markdown",
   "metadata": {},
   "source": [
    "##### Powered Trajectory"
   ]
  },
  {
   "cell_type": "markdown",
   "metadata": {},
   "source": [
    "That case was basically trivial, so let's try one subject to constant acceleration from a source like an [ion engine]().\n",
    "\n",
    "$$\n",
    "v(t)\n",
    "=\n",
    "a_0 t\n",
    "$$\n",
    "\n",
    "$$\n",
    "x(t)\n",
    "=\n",
    "\\int_{\\tau=t_0}^{t} d\\tau\\, a_0 \\tau\n",
    "$$"
   ]
  },
  {
   "cell_type": "code",
   "execution_count": null,
   "metadata": {},
   "outputs": [],
   "source": [
    "x,x0,v,a0,tau,t,tf = sympy.S( 'x,x0,v,a0,tau,t,tf' )\n",
    "v = ___\n",
    "x = ___  #should be able to write this the same as before"
   ]
  },
  {
   "cell_type": "markdown",
   "metadata": {},
   "source": [
    "Once again, we plot velocity and position for this trajectory:"
   ]
  },
  {
   "cell_type": "code",
   "execution_count": null,
   "metadata": {},
   "outputs": [],
   "source": [
    "plot_v = sympy.plotting.plot( v.subs( a0,10 ),( t,0,10 ),line_color='red',show=False )\n",
    "plot_x = sympy.plotting.plot( x.subs( a0,10 ),( t,0,10 ),show=False )\n",
    "plot_v.append( plot_x[ 0 ] )\n",
    "plot_v.show()"
   ]
  },
  {
   "cell_type": "markdown",
   "metadata": {},
   "source": [
    "##### External Forces"
   ]
  },
  {
   "cell_type": "markdown",
   "metadata": {},
   "source": [
    "Next we consider a scenario with external forces including drag $a_D$ acting on the rocket.  In this case, we posit that acceleration due to drag will vary as a function of time (really, of position, but we're simplifying) as the rocket moves through a thinning atmosphere, $a_D = -\\exp\\left( 2-t \\right)$.  Since gravity is a constant acceleration and we are treating the rocket's thrust as constant, the behavior won't be fundamentally different.\n",
    "\n",
    "$$\n",
    "a(t)\n",
    "=\n",
    "a_0 + a_D(t)\n",
    "=\n",
    "a_0 - \\exp\\left( 2-t \\right)\n",
    "$$\n",
    "\n",
    "$$\n",
    "v(t)\n",
    "=\n",
    "\\int_{\\tau=t_0}^{t} d\\tau\\, \\left( a_0 - \\exp\\left( 2-\\tau \\right) \\right)\n",
    "$$\n",
    "\n",
    "$$\n",
    "x(t)\n",
    "=\n",
    "\\int_{\\tau=t_0}^{t} d\\tau\\, v(\\tau)\n",
    "$$"
   ]
  },
  {
   "cell_type": "code",
   "execution_count": null,
   "metadata": {},
   "outputs": [],
   "source": [
    "x,x0,v,a0,tau,t,tf = sympy.S( 'x,x0,v,a0,tau,t,tf' )\n",
    "a = a0 - sympy.exp( 2-t )\n",
    "v = ___\n",
    "x = ___  #should be able to write this the same as before"
   ]
  },
  {
   "cell_type": "markdown",
   "metadata": {},
   "source": [
    "Plotting the same:"
   ]
  },
  {
   "cell_type": "code",
   "execution_count": null,
   "metadata": {},
   "outputs": [],
   "source": [
    "plot_v = sympy.plotting.plot( v.subs( a0,10 ),( t,0,10 ),line_color='red',show=False )\n",
    "plot_x = sympy.plotting.plot( x.subs( a0,10 ),( t,0,10 ),show=False )\n",
    "plot_v.append( plot_x[ 0 ] )\n",
    "plot_v.show()"
   ]
  },
  {
   "cell_type": "markdown",
   "metadata": {},
   "source": [
    "##### Odd Accelerations"
   ]
  },
  {
   "cell_type": "markdown",
   "metadata": {},
   "source": [
    "An experimental rocket fuel has been found to burn with a strange sinusoidal acceleration, $a_F = 50 \\sin( 10 t )$.  Subject to a standard acceleration $a_0 = -\\frac{1}{2}$, will this fuel be able to free the rocket from the planet's gravitational field, or will the ride be too bumpy and ultimately fail?\n",
    "\n",
    "To answer this question, you'll need to construct $a$ as a function of $a_0$ and $a_F$."
   ]
  },
  {
   "cell_type": "code",
   "execution_count": null,
   "metadata": {},
   "outputs": [],
   "source": [
    "x,x0,v,a0,tau,t,tf = sympy.S( 'x,x0,v,a0,tau,t,tf' )\n",
    "a = 50*sympy.sin( 10*t ) + a0\n",
    "v = ___\n",
    "x = ___  #should be able to write this the same as before"
   ]
  },
  {
   "cell_type": "markdown",
   "metadata": {},
   "source": [
    "Plot the resulting velocity and trajectory:"
   ]
  },
  {
   "cell_type": "code",
   "execution_count": null,
   "metadata": {},
   "outputs": [],
   "source": [
    "plot_v = sympy.plotting.plot( v.subs( a0,-0.5 ),( t,0,10 ),line_color='red',show=False )\n",
    "plot_x = sympy.plotting.plot( x.subs( a0,-0.5 ),( t,0,10 ),show=False )\n",
    "plot_v.append( plot_x[ 0 ] )\n",
    "plot_v.show()"
   ]
  },
  {
   "cell_type": "markdown",
   "metadata": {},
   "source": [
    "A different rocket fuel has been found to burn with the acceleration, $a_F = 2 \\log( 10 t )$.  Subject to a standard acceleration $a_0 = -\\frac{1}{2}$, check this fuel on the same planet to see if the rocket can escape the gravitational field.\n",
    "\n",
    "To answer this question, you'll need to construct $a$ as a function of $a_0$ and $a_F$."
   ]
  },
  {
   "cell_type": "code",
   "execution_count": null,
   "metadata": {},
   "outputs": [],
   "source": [
    "x,x0,v,a0,tau,t,tf = sympy.S( 'x,x0,v,a0,tau,t,tf' )\n",
    "a = 2*sympy.log( 10 * t ) + a0\n",
    "v = ___\n",
    "x = ___  #should be able to write this the same as before"
   ]
  },
  {
   "cell_type": "code",
   "execution_count": null,
   "metadata": {},
   "outputs": [],
   "source": [
    "plot_v = sympy.plotting.plot( v.subs( a0,-0.5 ),( t,0,10 ),line_color='red',show=False )\n",
    "plot_x = sympy.plotting.plot( x.subs( a0,-0.5 ),( t,0,10 ),show=False )\n",
    "plot_v.append( plot_x[ 0 ] )\n",
    "plot_v.show()"
   ]
  }
 ],
 "metadata": {
  "anaconda-cloud": {},
  "kernelspec": {
   "display_name": "Python 3",
   "language": "python",
   "name": "python3"
  },
  "language_info": {
   "codemirror_mode": {
    "name": "ipython",
    "version": 3
   },
   "file_extension": ".py",
   "mimetype": "text/x-python",
   "name": "python",
   "nbconvert_exporter": "python",
   "pygments_lexer": "ipython3",
   "version": "3.7.4"
  }
 },
 "nbformat": 4,
 "nbformat_minor": 1
}
