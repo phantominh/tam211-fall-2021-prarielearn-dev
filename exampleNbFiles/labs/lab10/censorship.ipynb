{
 "cells": [
  {
   "cell_type": "markdown",
   "metadata": {},
   "source": [
    "##   `lab10`—Image Manipulation"
   ]
  },
  {
   "cell_type": "markdown",
   "metadata": {},
   "source": [
    "![](./img/lab09-header-bkgd.png)"
   ]
  },
  {
   "cell_type": "markdown",
   "metadata": {},
   "source": [
    "❖ Objectives\n",
    "\n",
    "-   Understand how images are represented and manipulated in memory."
   ]
  },
  {
   "cell_type": "markdown",
   "metadata": {},
   "source": [
    "### Obscuring Images"
   ]
  },
  {
   "cell_type": "code",
   "execution_count": null,
   "metadata": {},
   "outputs": [],
   "source": [
    "import numpy as np\n",
    "import matplotlib.pyplot as plt\n",
    "%matplotlib inline"
   ]
  },
  {
   "cell_type": "markdown",
   "metadata": {},
   "source": [
    "The moment digital images are created, they are subject to being manipulated, censored, and altered.  This is a source of enormous power for good and ill.  Today we will take a look at how image censorship can be implemented (either to protect individuals' anonymity or to conceal sensitive information).\n",
    "\n",
    "Several strategies may be used to obscure information such as civilian faces or private data:\n",
    "\n",
    "- [censor bars](https://infogalactic.com/info/Censor_bars) simply cover the information which needs to be concealed ([famously used by the federal government in released classified documents](http://www.theonion.com/article/cia-realizes-its-been-using-black-highlighters-all-1848))\n",
    "- [pixelization](https://infogalactic.com/info/Pixelization) censors by dropping the local resolution of the information\n",
    "- <a href=\"https://infogalactic.com/info/Fogging_(censorship)\">fogging</a> applies a blur effect over an area which yields a smoother appearance than pixelization but has the same effect\n",
    "\n",
    "<table>\n",
    "<tr>\n",
    "<td><img src=\"https://upload.wikimedia.org/wikipedia/commons/thumb/5/5d/Pixelization_mosaic.jpg/148px-Pixelization_mosaic.jpg\" width=\"210px;\"></td>\n",
    "<td><img src=\"./img/fogging-example.png\" width=\"150px;\"></td>\n",
    "</tr>\n",
    "<tr><td>Censorship via pixelization</td><td>Censorship via fogging</td></tr>\n",
    "</table>\n",
    "\n",
    "In this lab, you will implement all three methods as an exercise in image manipulation."
   ]
  },
  {
   "cell_type": "markdown",
   "metadata": {},
   "source": [
    "###  Image Data Structure"
   ]
  },
  {
   "cell_type": "markdown",
   "metadata": {},
   "source": [
    "We will use the `imageio` library function [`imread`](https://docs.scipy.org/doc/scipy-0.14.0/reference/generated/scipy.misc.imread.html) to open an image file as a NumPy array.  Dimensions 0 and 1 of this array represent the 2D layout of the pixels, which are represented either as single values (if greyscale) or a three-element array (if color).\n",
    "\n",
    "A black-and-white or greyscale image would be represented as follows:\n",
    "\n",
    "![](tiny-python.png)"
   ]
  },
  {
   "cell_type": "code",
   "execution_count": null,
   "metadata": {
    "scrolled": true
   },
   "outputs": [],
   "source": [
    "from imageio import imread,imsave\n",
    "\n",
    "python = imread( 'tiny-python.png' )\n",
    "plt.imshow( python,cmap=\"gray\" )\n",
    "\n",
    "plt.show()\n",
    "print( python )"
   ]
  },
  {
   "cell_type": "markdown",
   "metadata": {},
   "source": [
    "We will flatten any color images to greyscale to make our subsequent work easier."
   ]
  },
  {
   "cell_type": "code",
   "execution_count": null,
   "metadata": {},
   "outputs": [],
   "source": [
    "def rgb2gray( rgb ):\n",
    "    '''\n",
    "    Convert an array to greyscale.  Code by waspinator.\n",
    "    '''\n",
    "    r,g,b = rgb[ :,:,0 ],rgb[ :,:,1 ],rgb[ :,:,2 ]\n",
    "    gray = 0.2989*r + 0.5870*g + 0.1140*b\n",
    "    return gray"
   ]
  },
  {
   "cell_type": "markdown",
   "metadata": {},
   "source": [
    "For representative images, we will use a sequence of pictures of famous whistleblowers:  [Julian Assange](https://en.wikipedia.org/wiki/WikiLeaks), [Edward Snowden](https://en.wikipedia.org/wiki/Edward_Snowden), and [Daniel Ellsberg](https://en.wikipedia.org/wiki/Pentagon_Papers).\n",
    "\n",
    "Get the dimensions.  For `assange`, the total size can be found using `assange.shape`.  Note that the way they are displayed is _transposed_ relative to the way we think of coördinates:  be careful!"
   ]
  },
  {
   "cell_type": "code",
   "execution_count": null,
   "metadata": {},
   "outputs": [],
   "source": [
    "assange = imread( 'assange.png' )\n",
    "assange = rgb2gray( assange )\n",
    "\n",
    "plt.imshow( assange,cmap=\"gray\" )\n",
    "plt.show()\n",
    "\n",
    "print( \"(#rows, #columns) = %i,%i = (range of y values, range of x values)\" % (assange.shape[0],assange.shape[1] ) )"
   ]
  },
  {
   "cell_type": "markdown",
   "metadata": {},
   "source": [
    "We will need to specify the coordinates of his face, which is centered at `(375,200)` or alternatively the rectangle from `(300,100)` to `(500,320)`.\n",
    "\n",
    "> Again, due to `imshow`'s transposition of the displayed array, we are not treating $x$ and $y$ coordinates completely consistently below.  Just be careful and you shouldn't have any trouble."
   ]
  },
  {
   "cell_type": "markdown",
   "metadata": {},
   "source": [
    "##  Censor Bars"
   ]
  },
  {
   "cell_type": "markdown",
   "metadata": {},
   "source": [
    "Applying censor bars to an image is quite straightforward, and just involves blacking out the pixel ranges involved (_i.e._, setting the values to zero).\n",
    "\n",
    "The function you will compose, `censor`, needs to receive the image (`image`) and a range of pixels to censor (`patch`).  `patch` should be a tuple with four values, `( left,top,height,width )`.\n",
    "\n",
    "<div class=\"alert alert-warning\">\n",
    "We are not making the implementation robust, so for instance selecting a range outside of the image range will lead to an <code>IndexError</code>.  (This isn't good for production code, but is fine for a quick-and-dirty implementation like this one.)\n",
    "</div>\n",
    "\n",
    "-   Compose a function `censor( image,patch )` which accepts these parameters and returns an image `outimage` with the patch replaced by `0`s.  (Note that black for a greyscale image is different from black for a color image!  How?)"
   ]
  },
  {
   "cell_type": "code",
   "execution_count": null,
   "metadata": {},
   "outputs": [],
   "source": [
    "def censor( image,patch ):\n",
    "    outimage = image.copy()\n",
    "    black = ???    # black\n",
    "    \n",
    "    left,top,height,width = patch\n",
    "    for w in ???:  # what range using left,width\n",
    "        for h in ???:  # what range using top,height\n",
    "            outimage[ h,w ] = black\n",
    "    return outimage"
   ]
  },
  {
   "cell_type": "code",
   "execution_count": null,
   "metadata": {},
   "outputs": [],
   "source": [
    "assange_censored = censor( assange,( 300,100,220,200 ) )\n",
    "plt.imshow( assange_censored,cmap=\"gray\" )\n",
    "plt.show()"
   ]
  },
  {
   "cell_type": "markdown",
   "metadata": {},
   "source": [
    "##  Pixelization"
   ]
  },
  {
   "cell_type": "code",
   "execution_count": null,
   "metadata": {},
   "outputs": [],
   "source": [
    "snowden = imread( 'snowden.png' )\n",
    "snowden = rgb2gray( snowden )\n",
    "\n",
    "plt.imshow( snowden,cmap=\"gray\" )\n",
    "plt.show()\n",
    "\n",
    "print( \"(#rows, #columns) = %i,%i = (range of y values, range of x values)\" % (snowden.shape[0],snowden.shape[1] ) )"
   ]
  },
  {
   "cell_type": "markdown",
   "metadata": {},
   "source": [
    "We could proceed one of two ways to pixelate the image.  We could select a portion of the image, scale it down (_resample_ it) and then scale that sector back up to size; or we could simply select successive blocks as giant \"pixels\" and average the value of the pixels within that block.  Libraries such as [Pillow](https://python-pillow.org/) support the first, but we'll implement the second way since it requires more interesting math of you.\n",
    "\n",
    "What you will do is select each block and average the values inside of it, then share that average value with all of the pixels in that block.  In the graphic below, as each 2×2 block is selected, it is replaced by the average value, resulting finally in the pixelated block at bottom.\n",
    "\n",
    "![](./img/pixelization.png)\n",
    "\n",
    "The function you will compose, `pixelate`, needs to receive the image (`image`), a range of pixels to pixelate (`patch`), and a resolution to pixelate to (`res`).  Your result should look like this:\n",
    "\n",
    "![](./snowden_pixelated.png)\n",
    "\n",
    "-   Compose a function `pixelate( image,patch,res )` which accepts these parameters and returns an image `outimage` with the patch transformed into `res`$\\times$`res`-pixel blocks.  `res` should default to `10`."
   ]
  },
  {
   "cell_type": "code",
   "execution_count": null,
   "metadata": {},
   "outputs": [],
   "source": [
    "def pixelate( image,patch,res ):  # set the default!\n",
    "    outimage = image.copy()\n",
    "    \n",
    "    left,top,height,width = patch\n",
    "    xstride = ???  # use top here and think about jumping res steps for the entire height\n",
    "    ystride = ???  # use left here and think about jumping res steps for the entire width\n",
    "    \n",
    "    for i in xstride:\n",
    "        for j in ystride:\n",
    "            outimage[ ??? ] = outimage[ ??? ].mean()  # what should the range of each block be?\n",
    "    return outimage"
   ]
  },
  {
   "cell_type": "code",
   "execution_count": null,
   "metadata": {},
   "outputs": [],
   "source": [
    "# Test your function on the image.\n",
    "snowden_pixelated = pixelate( snowden,( 280,100,220,200 ),25 )\n",
    "plt.imshow( snowden_pixelated,cmap=\"gray\" )\n",
    "plt.show()"
   ]
  },
  {
   "cell_type": "markdown",
   "metadata": {},
   "source": [
    "##  Fogging"
   ]
  },
  {
   "cell_type": "code",
   "execution_count": null,
   "metadata": {},
   "outputs": [],
   "source": [
    "ellsberg = imread( 'ellsberg.png' )\n",
    "ellsberg = rgb2gray( ellsberg )\n",
    "\n",
    "plt.imshow( ellsberg,cmap=\"gray\" )\n",
    "plt.show()\n",
    "\n",
    "print( \"(#rows, #columns) = %i,%i = (range of y values, range of x values)\" % (ellsberg.shape[0],ellsberg.shape[1] ) )"
   ]
  },
  {
   "cell_type": "markdown",
   "metadata": {},
   "source": [
    "To blur the image, you need to use a function to average together neighboring pixels in order to reduce detail.  One simple way to achieve this is the [box blur](), in which the average of neighboring pixels in a sliding block are used to determine the pixel's new value.\n",
    "\n",
    "    255 255 245\n",
    "    128 110  96   →   121 (at the center)\n",
    "      0   0   0\n",
    "\n",
    "Other popular filters which one often sees in image processing applications like Adobe Photoshop or GIMP include the [gaussian blur](https://infogalactic.com/info/Gaussian_blur) and the circular box blur.\n",
    "\n",
    "The function you will compose, `fog`, needs to receive the image (`image`), a range of pixels to pixelate (`patch`), and a \"radius\" to blur (`radius`, really the limits of the sliding box).\n",
    "\n",
    "-   Compose a function `fog( image,patch,radius )` which accepts these parameters and returns an image `outimage` with a patch blurred.  `radius` should default to 5."
   ]
  },
  {
   "cell_type": "code",
   "execution_count": null,
   "metadata": {},
   "outputs": [],
   "source": [
    "def fog( image,patch,radius=5 ):\n",
    "    outimage = image.copy()\n",
    "    \n",
    "    left,top,height,width = patch\n",
    "    \n",
    "    for w in ???:       # should go one pixel at a time and use left,width\n",
    "        for h in ???:   # should go one pixel at a time and use top,height\n",
    "            outimage[ h,w ] = ???  # should be the mean of the surrounding box of perimeter 2*radius, based on image, not outimage---why?\n",
    "    return outimage"
   ]
  },
  {
   "cell_type": "code",
   "execution_count": null,
   "metadata": {},
   "outputs": [],
   "source": [
    "# Test your function on the image.\n",
    "ellsberg_fogged = fog( ellsberg,( 200,100,200,200 ) )\n",
    "plt.imshow( ellsberg_fogged,cmap=\"gray\" )\n",
    "plt.show()"
   ]
  },
  {
   "cell_type": "markdown",
   "metadata": {},
   "source": [
    "That looks pretty good, but the edges of the patch are sharp and somewhat jarring.  Let's improve on that.\n",
    "\n",
    "Finally, you will create a function which is itself smoothed out, so that the edges of the censored patch blend seamlessly with the surrounding image context.  We will make two changes in our approach to facilitate this:\n",
    "\n",
    "1.  Change from a box patch to a circular patch.\n",
    "2.  Vary the radius of the box blur from 1 at the edge to a maximum near the center.  We can use the same logic as the `fog` function to accomplish this.\n",
    "\n",
    "The function you will compose, `smoothfog`, needs to receive the image (`image`) and the center of the circle and its radius (`center`, a three-member tuple).\n",
    "\n",
    "-   Compose a function `smoothfog( image,center )` which accepts these parameters and returns an image `outimage` with a patch blurred smoothly."
   ]
  },
  {
   "cell_type": "code",
   "execution_count": null,
   "metadata": {},
   "outputs": [],
   "source": [
    "from scipy.spatial.distance import euclidean as dist\n",
    "\n",
    "def smoothfog( image,center ):\n",
    "    outimage = image.copy()\n",
    "    \n",
    "    cirx,ciry,cirr = center\n",
    "    \n",
    "    for w in ???:       # should use cirr and cirx to define x boundaries\n",
    "        for h in ???:   # should use cirr and ciry to define y boundaries\n",
    "            radius = dist( np.array( ( w,h ) ),np.array( ( cirx,ciry ) ) )\n",
    "            if radius > ???:  # and filter out the pixels outside the circle\n",
    "                continue  # don't alter pixels outside the circle\n",
    "            rad = ???  # set `rad`, the distance of the pixel from the edge of the circle, as an int\n",
    "            outimage[ h,w ] = ???  # set as with `fog` but using `rad` instead\n",
    "    return outimage"
   ]
  },
  {
   "cell_type": "code",
   "execution_count": null,
   "metadata": {},
   "outputs": [],
   "source": [
    "# Test your function on the image.\n",
    "ellsberg_fogged = smoothfog( ellsberg,( 200,300,100 ) )\n",
    "plt.imshow( ellsberg_fogged,cmap=\"gray\" )\n",
    "plt.show()"
   ]
  },
  {
   "cell_type": "markdown",
   "metadata": {},
   "source": [
    "The thin white line at the radius of the circle occurs because the range `i-rad:i+rad` becomes empty at the limit.  To eliminate it, simply skip those lines thus:\n",
    "\n",
    "    if rad == 0: continue  # after calculating `rad`, before setting `outimage`"
   ]
  },
  {
   "cell_type": "markdown",
   "metadata": {},
   "source": [
    "If implemented correctly above, then this should work in color as well:"
   ]
  },
  {
   "cell_type": "code",
   "execution_count": null,
   "metadata": {},
   "outputs": [],
   "source": [
    "assange_rgb = imread( 'assange.png' )\n",
    "plt.imshow( assange_rgb )\n",
    "plt.show()\n",
    "\n",
    "assange_smoothed = smoothfog( assange_rgb,( 200,400,150 ) )\n",
    "plt.imshow( assange_smoothed )\n",
    "plt.show()"
   ]
  },
  {
   "cell_type": "markdown",
   "metadata": {},
   "source": [
    "Interestingly, since everything is averaged the filtered portion becomes greyscale.  To fix this, we have to average over a single dimension at a time.  Copy `smoothfog` from above and change the `mean()` statement to `mean( axis=0 ).mean( axis=0 )` (_i.e._, chomp the first axis twice when averaging)."
   ]
  },
  {
   "cell_type": "code",
   "execution_count": null,
   "metadata": {},
   "outputs": [],
   "source": [
    "# Place your modified `smoothfog` here."
   ]
  },
  {
   "cell_type": "code",
   "execution_count": null,
   "metadata": {},
   "outputs": [],
   "source": [
    "assange_rgb = imread( 'assange.png' )\n",
    "plt.imshow( assange_rgb )\n",
    "plt.show()\n",
    "\n",
    "assange_smoothed = smoothfog( assange_rgb,( 200,400,150 ) )\n",
    "plt.imshow( assange_smoothed )\n",
    "plt.show()"
   ]
  },
  {
   "cell_type": "markdown",
   "metadata": {},
   "source": [
    "This concludes our lab on the mechanics of images and image manipulation using Python.  Most programming languages, including MATLAB, adopt a similar representation when working with images."
   ]
  }
 ],
 "metadata": {
  "kernelspec": {
   "display_name": "Python 3",
   "language": "python",
   "name": "python3"
  },
  "language_info": {
   "codemirror_mode": {
    "name": "ipython",
    "version": 3
   },
   "file_extension": ".py",
   "mimetype": "text/x-python",
   "name": "python",
   "nbconvert_exporter": "python",
   "pygments_lexer": "ipython3",
   "version": "3.7.4"
  }
 },
 "nbformat": 4,
 "nbformat_minor": 2
}
