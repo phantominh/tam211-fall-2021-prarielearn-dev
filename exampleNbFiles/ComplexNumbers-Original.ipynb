{
 "cells": [
  {
   "cell_type": "markdown",
   "metadata": {},
   "source": [
    "#   `lab02`—Mathematical Operations\n",
    "\n",
    "##  Part 1"
   ]
  },
  {
   "cell_type": "markdown",
   "metadata": {},
   "source": [
    "**Objectives**\n",
    "\n",
    "- Work with tuples to contain pairs of numbers.\n",
    "- Produce a complex number library of use in future projects."
   ]
  },
  {
   "cell_type": "markdown",
   "metadata": {},
   "source": [
    "Most labs from now on will have a short header cell which you should evaluate before running anything later on in the lab."
   ]
  },
  {
   "cell_type": "code",
   "execution_count": 2,
   "metadata": {},
   "outputs": [
    {
     "name": "stdout",
     "output_type": "stream",
     "text": [
      "Successfully loaded module.\n"
     ]
    }
   ],
   "source": [
    "from testing import exercise"
   ]
  },
  {
   "cell_type": "markdown",
   "metadata": {},
   "source": [
    "_The first part of this lesson draws from a [Microsoft Quantum Development Kit tutorial](https://github.com/microsoft/QuantumKatas/blob/main/tutorials/ComplexArithmetic) on complex algebra, licensed under the MIT License._"
   ]
  },
  {
   "cell_type": "markdown",
   "metadata": {},
   "source": [
    "##  Complex Numbers"
   ]
  },
  {
   "cell_type": "markdown",
   "metadata": {},
   "source": [
    "### Imaginary numbers\n",
    "\n",
    "For some purposes, real numbers aren't enough. Probably the most famous example is this equation:\n",
    "\n",
    "$$x^{2} = -1$$\n",
    "\n",
    "which has no solution for $x$ among real numbers. If, however, we abandon that constraint, we can do something interesting - we can define our own number. Let's say there exists some number that solves that equation. Let's call that number $i$.\n",
    "\n",
    "$$i^{2} = -1$$\n",
    "\n",
    "As we said before, $i$ can't be a real number. In that case, we'll call it an **imaginary unit**. However, there is no reason for us to define it as acting any different from any other number, other than the fact that $i^2 = -1$:\n",
    "\n",
    "$$i + i = 2i \\\\\n",
    "i - i = 0 \\\\\n",
    "-1 \\cdot i = -i \\\\\n",
    "(-i)^{2} = -1$$\n",
    "\n",
    "We'll call the number $i$ and its real multiples **imaginary numbers**.\n",
    "\n",
    "> A good video introduction on imaginary numbers can be found  [here](https://youtu.be/SP-YJe7Vldo).\n",
    "\n",
    "<!-- The foregoing is quoted from MS. -->\n",
    "\n",
    "### Imaginary Numbers in Python\n",
    "\n",
    "Python represents imaginary numbers with a real and an imaginary component inside of a single value, `complex`.  Since we can write a strictly imaginary number as a complex number with zero real part, we could use `(0+1j)` as the imaginary unit $i$.\n",
    "\n",
    "However, for our purposes today, we will prefer to use separate real and imaginary parts, representing an imaginary number as a pair of real `float`s `(a,b)` rather than a single `complex` `(a+bj)`."
   ]
  },
  {
   "cell_type": "markdown",
   "metadata": {},
   "source": [
    "### <span style=\"color:#345995\">Exercise 1: Powers of $i$</span>\n",
    "\n",
    "Compose a function `pow_imag` which accepts an integer `n` and yields the imaginary unit raised to that power.  `pow_imag` should return a pair of values of type `float` or `int`:\n",
    "\n",
    "- $1 \\rightarrow (1,0)$\n",
    "- $i \\rightarrow (0,1)$\n",
    "- etc.\n",
    "\n",
    "Use an `if` statement and a `%` modulus operator to detect and return the correct imaginary value for a given integer input.  You should be able to work out the four possible values of $i$ raised to a power on paper, then identify the repeating pattern."
   ]
  },
  {
   "cell_type": "code",
   "execution_count": 5,
   "metadata": {
    "scrolled": true
   },
   "outputs": [
    {
     "name": "stdout",
     "output_type": "stream",
     "text": [
      "Result of exponentiation doesn't seem to match expected value: expected i**(-50) = (-1, 0), got -50\n"
     ]
    }
   ],
   "source": [
    "@exercise\n",
    "def pow_imag(n):\n",
    "    return n"
   ]
  },
  {
   "cell_type": "markdown",
   "metadata": {},
   "source": [
    "###  Complex Arithmetic\n",
    "\n",
    "The real part and the imaginary part of a complex number are subjected to addition and subtraction separately.  That is, when adding two complex numbers together, the real parts add and the imaginary parts add, but they do not otherwise interact:\n",
    "\n",
    "$$\n",
    "(4 + 3i) + (2 + i) \\\\ \\downarrow \\\\\n",
    "(6 + 2) + (3 + 1)i \\\\ \\downarrow \\\\\n",
    "8 + 4i\n",
    "$$"
   ]
  },
  {
   "cell_type": "markdown",
   "metadata": {},
   "source": [
    "### <span style=\"color:#345995\">Exercise 2: Complex Addition</span>\n",
    "\n",
    "Compose a function `addc` which accepts two pairs of integers `x` and `y` and yields the sum of those two pairs interpreted as complex numbers.  `addc` should return a pair of values of type `float` or `int`.\n",
    "\n",
    "You can create a pair of numbers, called a `tuple`, by including them inside of parentheses:  `(3,5)`.\n",
    "\n",
    "<br/>\n",
    "<details>\n",
    "<summary>More on <code>tuple</code>s</summary>\n",
    "A <code>tuple</code> is a special kind of <code>list</code>.\n",
    "    \n",
    "To access the elements of a <code>tuple</code>, use index notation:\n",
    "    \n",
    "```py\n",
    "a = x[0]\n",
    "b = x[1]\n",
    "```\n",
    "</details>"
   ]
  },
  {
   "cell_type": "code",
   "execution_count": null,
   "metadata": {},
   "outputs": [],
   "source": [
    "@exercise\n",
    "def addc(x,y):\n",
    "    a = x[0]\n",
    "    b = x[1]\n",
    "    \n",
    "    _____\n",
    "    \n",
    "    return _____"
   ]
  },
  {
   "cell_type": "markdown",
   "metadata": {},
   "source": [
    "### Complex Multiplication\n",
    "\n",
    "Complex multiplication behaves a bit like polynomial multiplication, with $i$ playing the part of $x$:\n",
    "\n",
    "$$\n",
    "(4 + 3i) \\cdot (2 + i) \\\\ \\downarrow \\\\\n",
    "(4 \\cdot 2 - 3 \\cdot 1) + (4 \\cdot 1 + 3 \\cdot 2) i \\\\ \\downarrow \\\\\n",
    "5 + 10 i\n",
    "$$"
   ]
  },
  {
   "cell_type": "markdown",
   "metadata": {},
   "source": [
    "### <span style=\"color:#345995\">Exercise 3: Complex Multiplication</span>\n",
    "\n",
    "Compose a function `mulc` which accepts two pairs of integers `x` and `y` and yields the product of those two pairs interpreted as complex numbers.  `mulc` should return a pair of values of type `float` or `int`."
   ]
  },
  {
   "cell_type": "code",
   "execution_count": null,
   "metadata": {},
   "outputs": [],
   "source": [
    "@exercise\n",
    "def mulc(x,y):\n",
    "    _____\n",
    "    \n",
    "    return _____"
   ]
  },
  {
   "cell_type": "markdown",
   "metadata": {},
   "source": [
    "<div class=\"alert alert-danger\">\n",
    "Check in with your team and TA to make sure everyone understands concepts up through this point.\n",
    "</div>"
   ]
  },
  {
   "cell_type": "markdown",
   "metadata": {},
   "source": [
    "### Complex Conjugate\n",
    "\n",
    "Before we discuss any other complex operations, we have to cover the **complex conjugate**. The conjugate is a simple operation: given a complex number $x = a + bi$, its complex conjugate is $\\overline{x} = a - bi$.\n",
    "\n",
    "The conjugate allows us to do some interesting things. The first and probably most important is multiplying a complex number by its conjugate:\n",
    "\n",
    "$$x \\cdot \\overline{x} = (a + bi)(a - bi)$$\n",
    "\n",
    "Notice that the second expression is a difference of squares:\n",
    "\n",
    "$$(a + bi)(a - bi) = a^2 - (bi)^2 = a^2 - b^2i^2 = a^2 + b^2$$\n",
    "\n",
    "This means that a complex number multiplied by its conjugate always produces a non-negative real number.\n",
    "\n",
    "Another property of the conjugate is that it distributes over both complex addition and complex multiplication:\n",
    "\n",
    "$$\\overline{x + y} = \\overline{x} + \\overline{y} \\\\\n",
    "\\overline{x \\cdot y} = \\overline{x} \\cdot \\overline{y}$$\n",
    "\n",
    "<!-- The foregoing is quoted from MS. -->"
   ]
  },
  {
   "cell_type": "markdown",
   "metadata": {},
   "source": [
    "### <span style=\"color:#345995\">Exercise 4: Complex Conjugation</span>\n",
    "\n",
    "Compose a function `conj` which a pair of integers `x` and yields the complex conjugate.  `conj` should return a pair of values of type `float` or `int`."
   ]
  },
  {
   "cell_type": "code",
   "execution_count": null,
   "metadata": {},
   "outputs": [],
   "source": [
    "@exercise\n",
    "def conj(x):\n",
    "    _____"
   ]
  },
  {
   "cell_type": "markdown",
   "metadata": {},
   "source": [
    "### Complex Division\n",
    "\n",
    "The conjugate is used to accomplish complex division. Let's take two complex numbers: $x = a + bi$ and $y = c + di \\neq 0$ (not even complex numbers let you divide by $0$). What does $\\frac{x}{y}$ mean?\n",
    "\n",
    "Let's expand $x$ and $y$ into their component forms:\n",
    "\n",
    "$$\\frac{x}{y} = \\frac{a + bi}{c + di}$$\n",
    "\n",
    "Unfortunately, it isn't very clear what it means to divide by a complex number. We need some way to move either all real parts or all imaginary parts into the numerator. And thanks to the conjugate, we can do just that. Using the fact that any number (except $0$) divided by itself equals $1$, and any number multiplied by $1$ equals itself, we get:\n",
    "\n",
    "$$\\frac{x}{y} = \\frac{x}{y} \\cdot 1 = \\frac{x}{y} \\cdot \\frac{\\overline{y}}{\\overline{y}} = \\frac{x\\overline{y}}{y\\overline{y}} = \\frac{(a + bi)(c - di)}{(c + di)(c - di)} = \\frac{(a + bi)(c - di)}{c^2 + d^2}$$\n",
    "\n",
    "By doing this, we re-wrote our division problem to have a complex multiplication expression in the numerator, and a real number in the denominator. We already know how to multiply complex numbers, and dividing a complex number by a real number is as simple as dividing both parts of the complex number separately:\n",
    "\n",
    "$$\\frac{a + bi}{r} = \\frac{a}{r} + \\frac{b}{r}i$$\n",
    "\n",
    "<!-- The foregoing is quoted from MS. -->"
   ]
  },
  {
   "cell_type": "markdown",
   "metadata": {},
   "source": [
    "### <span style=\"color:#345995\">Exercise 5: Complex Division</span>\n",
    "\n",
    "Compose a function `divc` which accepts two pairs of integers `x` and `y` and yields the division of the latter by the former.  `divc` should return a pair of values of type `float` or `int`."
   ]
  },
  {
   "cell_type": "code",
   "execution_count": null,
   "metadata": {},
   "outputs": [],
   "source": [
    "@exercise\n",
    "def divc(x,y):\n",
    "    _____"
   ]
  },
  {
   "cell_type": "markdown",
   "metadata": {},
   "source": [
    "<div class=\"alert alert-danger\">\n",
    "Check in with your team and TA to make sure everyone understands concepts up through this point.\n",
    "</div>"
   ]
  },
  {
   "cell_type": "markdown",
   "metadata": {},
   "source": [
    "##  The Complex Plane"
   ]
  },
  {
   "cell_type": "markdown",
   "metadata": {},
   "source": [
    "### A Geometric Interpretation\n",
    "\n",
    "Just as the real numbers can be represented as lying along a number line,\n",
    "\n",
    "![](https://upload.wikimedia.org/wikipedia/commons/thumb/9/93/Number-line.svg/640px-Number-line.svg.png)\n",
    "\n",
    "the introduction of the imaginary unit suggests the expedient of imagining the crossing a real number line and an imaginary number line.  This describes the _complex plane_, in which the number $x+yi$ is treated as a coordinate pair $(x,y)$.\n",
    "\n",
    "![](https://upload.wikimedia.org/wikipedia/commons/thumb/6/69/Complex_conjugate_picture.svg/341px-Complex_conjugate_picture.svg.png)\n",
    "\n",
    "<!-- The foregoing is by NED. -->\n",
    "\n",
    "This mapping allows us to apply complex arithmetic to geometry, and, more importantly, apply geometric concepts to complex numbers. Many properties of complex numbers become easier to understand when viewed through a geometric lens.\n",
    "\n",
    "<!-- The foregoing is quoted from MS. -->"
   ]
  },
  {
   "cell_type": "markdown",
   "metadata": {},
   "source": [
    "### Modulus\n",
    "\n",
    "The modulus operator in regular Python means the remainder after division, but in complex arithmetic it means something quite different.\n",
    "\n",
    "<!-- The foregoing by NED. -->\n",
    "\n",
    "For complex operations, the modulus operator generalizes the **absolute value** operator on real numbers to the complex plane. Just like the absolute value of a number is its distance from $0$, the modulus of a complex number is its distance from $0 + 0i$. Using the distance formula, if $x = a + bi$, then:\n",
    "\n",
    "$$|x| = \\sqrt{a^2 + b^2}$$\n",
    "\n",
    "There is also a slightly different, but algebraically equivalent definition:\n",
    "\n",
    "$$|x| = \\sqrt{x \\cdot \\overline{x}}$$\n",
    "\n",
    "Like the conjugate, the modulus distributes over multiplication.\n",
    "\n",
    "$$|x \\cdot y| = |x| \\cdot |y|$$\n",
    "\n",
    "Unlike the conjugate, however, the modulus doesn't distribute over addition. Instead, the interaction of the two comes from the triangle inequality:\n",
    "\n",
    "$$|x + y| \\leq |x| + |y|$$\n",
    "\n",
    "<!-- The foregoing is quoted from MS. -->"
   ]
  },
  {
   "cell_type": "markdown",
   "metadata": {},
   "source": [
    "### <span style=\"color:#345995\">Exercise 6: Modulus</span>\n",
    "\n",
    "Compose a function `mod` which accepts a pair of integers `x` and yields the modulus of this number, $|x|$.  `mod` should return a single real value of type `float` or `int`."
   ]
  },
  {
   "cell_type": "code",
   "execution_count": null,
   "metadata": {},
   "outputs": [],
   "source": [
    "@exercise\n",
    "def mod(x):\n",
    "    _____"
   ]
  },
  {
   "cell_type": "markdown",
   "metadata": {},
   "source": [
    "### Complex Exponents\n",
    "\n",
    "The next complex operation we're going to need is exponentiation. Raising an imaginary number to an integer power is a fairly simple task, but raising a number to an imaginary power, or raising an imaginary (or complex) number to a real power isn't quite as simple.\n",
    "\n",
    "Let's start with raising real numbers to imaginary powers. Specifically, let's start with a rather special real number - Euler's constant, $e$:\n",
    "\n",
    "$$e^{i\\theta} = \\cos \\theta + i\\sin \\theta$$\n",
    "\n",
    "(Here and later in this tutorial $\\theta$ is measured in radians.)\n",
    "\n",
    "Explaining why that happens is somewhat beyond the scope of this tutorial, as it requires some calculus, so we won't do that here. If you are curious, you can see [this video](https://youtu.be/v0YEaeIClKY) for a beautiful intuitive explanation, or [the Wikipedia article](https://en.wikipedia.org/wiki/Euler%27s_formula#Proofs) for a more mathematically rigorous proof.\n",
    "\n",
    "Here are some examples of this formula in action:\n",
    "\n",
    "$$e^{i\\pi/4} = \\frac{1}{\\sqrt{2}} + \\frac{i}{\\sqrt{2}} \\\\\n",
    "e^{i\\pi/2} = i \\\\\n",
    "e^{i\\pi} = -1 \\\\\n",
    "e^{2i\\pi} = 1$$\n",
    "\n",
    "> One interesting consequence of this is Euler's Identity:\n",
    ">\n",
    "> $$e^{i\\pi} + 1 = 0$$\n",
    ">\n",
    "> While this doesn't have any notable uses, it is still an interesting identity to consider, as it combines 5 fundamental constants of algebra into one expression.\n",
    "\n",
    "We can also calculate complex powers of $e$ as follows:\n",
    "\n",
    "$$e^{a + bi} = e^a \\cdot e^{bi}$$\n",
    "\n",
    "Finally, using logarithms to express the base of the exponent as $r = e^{\\ln r}$, we can use this to find complex powers of any positive real number.\n",
    "\n",
    "<!-- The foregoing is quoted from MS. -->"
   ]
  },
  {
   "cell_type": "markdown",
   "metadata": {},
   "source": [
    "### <span style=\"color:#345995\">Exercise 7: Complex Exponents</span>\n",
    "\n",
    "Compose a function `expc` which accepts a pair of integers `x` and yields $\\exp (a+bi)$.  `expc` should return a pair of values of type `float` or `int`."
   ]
  },
  {
   "cell_type": "code",
   "execution_count": null,
   "metadata": {},
   "outputs": [],
   "source": [
    "@exercise\n",
    "def expc(x):\n",
    "    _____"
   ]
  },
  {
   "cell_type": "markdown",
   "metadata": {},
   "source": [
    "### <span style=\"color:#345995\">Exercise 8: Complex Powers of Real Numbers</span>\n",
    "\n",
    "Compose a function `powc_real` which accepts a real `float` `r` and a pair of integers `x` and yields $r^{x}=r^{a+bi}$.  `powc_real` should return a pair of values of type `float` or `int`.\n",
    "\n",
    "Use the fact that $r = e^{\\ln r}$ to convert exponent bases.  $\\ln r$ requires $r > 0$."
   ]
  },
  {
   "cell_type": "code",
   "execution_count": null,
   "metadata": {},
   "outputs": [],
   "source": [
    "@exercise\n",
    "def powc_real(r,x):\n",
    "    _____"
   ]
  },
  {
   "cell_type": "markdown",
   "metadata": {},
   "source": [
    "<div class=\"alert alert-danger\">\n",
    "Check in with your team and TA to make sure everyone understands concepts up through this point.\n",
    "</div>"
   ]
  }
 ],
 "metadata": {
  "kernelspec": {
   "display_name": "Python 3 (ipykernel)",
   "language": "python",
   "name": "python3"
  },
  "language_info": {
   "codemirror_mode": {
    "name": "ipython",
    "version": 3
   },
   "file_extension": ".py",
   "mimetype": "text/x-python",
   "name": "python",
   "nbconvert_exporter": "python",
   "pygments_lexer": "ipython3",
   "version": "3.8.10"
  }
 },
 "nbformat": 4,
 "nbformat_minor": 4
}
