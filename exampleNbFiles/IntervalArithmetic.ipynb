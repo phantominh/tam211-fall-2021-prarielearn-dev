{
 "cells": [
  {
   "cell_type": "markdown",
   "metadata": {},
   "source": [
    "#   `lab02`—Mathematical Operations\n",
    "##  Part 2"
   ]
  },
  {
   "cell_type": "markdown",
   "metadata": {},
   "source": [
    "**Objectives**\n",
    "\n",
    "- Work with tuples to contain pairs of numbers.\n",
    "- Produce an interval arithmetic library of use in future projects."
   ]
  },
  {
   "cell_type": "code",
   "execution_count": 1,
   "metadata": {},
   "outputs": [
    {
     "name": "stdout",
     "output_type": "stream",
     "text": [
      "Successfully loaded module.\n"
     ]
    }
   ],
   "source": [
    "from testing import exercise"
   ]
  },
  {
   "cell_type": "markdown",
   "metadata": {},
   "source": [
    "_Some text in this lesson, indicated with quotes, is drawn from [Wikipedia](https://en.wikipedia.org/wiki/Interval_arithmetic), licensed under [CC-BY-SA](https://en.wikipedia.org/wiki/Wikipedia:Text_of_Creative_Commons_Attribution-ShareAlike_3.0_Unported_License)._"
   ]
  },
  {
   "cell_type": "markdown",
   "metadata": {},
   "source": [
    "##  Interval Arithmetic"
   ]
  },
  {
   "cell_type": "markdown",
   "metadata": {},
   "source": [
    "\"Interval arithmetic is a mathematical technique used to put bounds on rounding errors and measurement errors in mathematical computation.  Instead of representing a value as a single number, interval arithmetic represents each value as a range of possibilities.  For example, instead of estimating the height of someone as exactly 2.0 metres, using interval arithmetic one might be certain that that person is somewhere between 1.97 and 2.03 metres.\n",
    "\n",
    "\"Mathematically, instead of working with an uncertain real $x$, one works with the ends of an interval $[a,b]$ that contains $x$.  In interval arithmetic, any variable $x$ lies in the closed interval between $a$ and $b$.  A function $f$, when applied to $x$, yields an uncertain result; $f(x)$ produces an interval $[c,d]$ which includes all the possible values for $f(x)$ for all $x\\in [a,b]$.\n",
    "\n",
    "\"Interval arithmetic is suitable for a variety of purposes. The most common use is in software, to keep track of rounding errors in calculations and of uncertainties in the knowledge of the exact values of physical and technical parameters. The latter often arise from measurement errors and tolerances for components or due to limits on computational accuracy.\""
   ]
  },
  {
   "cell_type": "markdown",
   "metadata": {},
   "source": [
    "###  Interval Arithmetic\n",
    "\n",
    "\"A binary (twofold) operation $\\star$ on two intervals, such as addition or multiplication, is defined by\n",
    "\n",
    "$$\n",
    "[x_1, x_2] {\\,\\star\\,} [y_1, y_2]\n",
    "=\n",
    "\\{ x \\star y \\, | \\, x \\in [x_1, x_2] \\,\\land\\, y \\in [y_1, y_2] \\}\n",
    "\\text{.}\n",
    "$$\n",
    "\n",
    "Thus operations like addition and subtraction are straightforward:  an interval is directly modified by the operation.  (This implies that the way to represent a simple addition is to \"double\" the number to represent both endpoints of the interval.)\n",
    "\n",
    "$$\n",
    "[1,4] + [2,2] \\\\ \\downarrow \\\\\n",
    "[3,6]\n",
    "$$"
   ]
  },
  {
   "cell_type": "markdown",
   "metadata": {},
   "source": [
    "<div class=\"alert alert-warning\">\n",
    "The conventional mathematical index starts at one.  What does Python start at?  What change should you make in converting from the mathematical description to the Pythonic description?\n",
    "</div>"
   ]
  },
  {
   "cell_type": "markdown",
   "metadata": {},
   "source": [
    "### <span style=\"color:#345995\">Exercise 1: Interval Addition</span>\n",
    "\n",
    "Compose a function `iadd` which accepts two pairs of integers `a` and `b` and yields the sum of those two pairs interpreted as the endpoints of intervals.  `iadd` should return a pair of values of type `float` or `int`.\n",
    "\n",
    "You can create a pair of numbers, called a `tuple`, by including them inside of parentheses:  `(3,5)`.\n",
    "\n",
    "<br/>\n",
    "<details>\n",
    "<summary>More on <code>tuple</code>s</summary>\n",
    "A <code>tuple</code> is a special kind of <code>list</code>.\n",
    "    \n",
    "To access the elements of a <code>tuple</code>, use index notation:\n",
    "    \n",
    "```py\n",
    "la = a[0]\n",
    "ra = b[1]\n",
    "```\n",
    "</details>"
   ]
  },
  {
   "cell_type": "code",
   "execution_count": null,
   "metadata": {},
   "outputs": [],
   "source": [
    "@exercise\n",
    "def iadd(x,y):\n",
    "    a = x[0]\n",
    "    b = x[1]\n",
    "    \n",
    "    _____\n",
    "    \n",
    "    return _____"
   ]
  },
  {
   "cell_type": "markdown",
   "metadata": {},
   "source": [
    "### Interval Multiplication\n",
    "\n",
    "$$\n",
    "[x_1, x_2] \\cdot [y_1, y_2]\n",
    "=\n",
    "[\\min \\{x_1 y_1,x_1 y_2,x_2 y_1,x_2 y_2\\}, \\max\\{x_1 y_1,x_1 y_2,x_2 y_1,x_2 y_2\\}]\n",
    "$$"
   ]
  },
  {
   "cell_type": "markdown",
   "metadata": {},
   "source": [
    "### <span style=\"color:#345995\">Exercise 2: Interval Multiplication</span>\n",
    "\n",
    "Compose a function `imul` which accepts two pairs of integers `a` and `b` and yields the product of those two pairs interpreted as the endpoints of intervals.  `imul` should return a pair of values of type `float` or `int`."
   ]
  },
  {
   "cell_type": "code",
   "execution_count": null,
   "metadata": {},
   "outputs": [],
   "source": [
    "@exercise\n",
    "def imul(x,y):\n",
    "    _____\n",
    "    \n",
    "    return _____"
   ]
  },
  {
   "cell_type": "markdown",
   "metadata": {},
   "source": [
    "<div class=\"alert alert-danger\">\n",
    "Check in with your team and TA to make sure everyone understands concepts up through this point.\n",
    "</div>"
   ]
  },
  {
   "cell_type": "markdown",
   "metadata": {},
   "source": [
    "### Interval Division\n",
    "\n",
    "$$\n",
    "\\frac{[x_1, x_2]}{[y_1, y_2]} = [x_1, x_2] \\cdot \\frac{1}{[y_1, y_2]}\n",
    "$$\n",
    "\n",
    "where\n",
    "\n",
    "$$\n",
    "\\begin{align}\n",
    "\\frac{1}{[y_1, y_2]} &= \\left [\\tfrac{1}{y_2}, \\tfrac{1}{y_1} \\right ] && \\mathrm{if}\\;0 \\notin [y_1, y_2] \\\\\n",
    "\\frac{1}{[y_1, 0]}   &= \\left [-\\infty, \\tfrac{1}{y_1} \\right ] \\\\\n",
    "\\frac{1}{[0, y_2]}   &= \\left [\\tfrac{1}{y_2}, \\infty \\right ] \\\\\n",
    "\\frac{1}{[y_1, y_2]} &= \\left [-\\infty, \\tfrac{1}{y_1} \\right ] \\cup \\left [\\tfrac{1}{y_2}, \\infty \\right ] \\subseteq [-\\infty, \\infty] && \\mathrm{if}\\;0 \\in (y_1, y_2)\n",
    "\\end{align}\n",
    "$$\n",
    "\n",
    "\"The last case loses useful information about the exclusion of $(1/y_1, 1/y_2)$. Thus, it is common to work with $\\left [-\\infty, \\tfrac{1}{y_1} \\right ]$ and $\\left [\\tfrac{1}{y_2}, \\infty \\right ]$ as separate intervals.\"\n",
    "\n",
    "<!-- The foregoing is quoted from Wikipedia. -->"
   ]
  },
  {
   "cell_type": "markdown",
   "metadata": {},
   "source": [
    "### <span style=\"color:#345995\">Exercise 3: Interval Division</span>\n",
    "\n",
    "Compose a function `idiv` which accepts two pairs of integers `a` and `b` and yields the quotient of those two pairs interpreted as the endpoints of intervals.  `idiv` should return a pair of values of type `float` or `int`.\n",
    "\n",
    "For the multi-interval case, `idiv` should return a pair of pairs.  You may create a positive infinity $\\infty$ with `float('Inf')`.  (The grader has been a little fussy about order, so it's been demanding the tuple containing positive infinity term first.)"
   ]
  },
  {
   "cell_type": "code",
   "execution_count": null,
   "metadata": {},
   "outputs": [],
   "source": [
    "@exercise\n",
    "def idiv(x):\n",
    "    _____"
   ]
  },
  {
   "cell_type": "markdown",
   "metadata": {},
   "source": [
    "<div class=\"alert alert-danger\">\n",
    "Check in with your team and TA to make sure everyone understands concepts up through this point.\n",
    "</div>"
   ]
  },
  {
   "cell_type": "markdown",
   "metadata": {},
   "source": [
    "### Elementary Functions\n",
    "\n",
    "A more general description of operations can be phrased densely, but we'll expand on it afterwards:\n",
    "\n",
    "\"For monotonic functions in one variable, the range of values is simple to compute. If $f: \\mathbb{R} \\to \\mathbb{R}$ is monotonically increasing (resp. decreasing) in the interval $[x_1, x_2]$, then for all $y_1, y_2 \\in [x_1, x_2]$ such that $y_1 \\leq y_2$, $f(y_1)<f(y_2)$ (resp. $f(y_2) < f(y_1)$).\n",
    "\n",
    "\"The range corresponding to the interval $[y_1, y_2] \\subseteq [x_1, x_2]$ can be therefore calculated by applying the function to its endpoints:\n",
    "\n",
    "$$\n",
    "f([y_1, y_2])\n",
    "=\\left[\\min \\left  \\{f(y_1), f(y_2) \\right \\}, \\max \\left\\{ f(y_1), f(y_2) \\right\\}\\right]\n",
    "\\text{.}\n",
    "$$\n",
    "\n",
    "**What that means to us**:  functions that only increase or decrease can be handled in interval arithmetic by applying the functions at the interval endpoints.\n",
    "\n",
    "\"From this, the following basic features for interval functions can easily be defined:\n",
    "\n",
    "* Exponential function: $a^{[x_1, x_2]} = [a^{x_1},a^{x_2}]$ for $a > 1$,\n",
    "* Logarithm: $\\log_a [x_1, x_2] = [\\log_a {x_1}, \\log_a {x_2}]$ for positive intervals $[x_1, x_2]$ and $a>1$,\n",
    "* Odd powers: $[x_1, x_2]^n = [x_1^n,x_2^n]$, for odd $n\\in \\mathbb{N}$.\n",
    "\n",
    "\"For even powers, the range of values being considered is important, and needs to be dealt with before doing any multiplication. For example, $x^n$ for $x \\in [-1,1]$ should produce the interval $[0,1]$ when $n = 2, 4, 6, \\ldots.$ But if $[-1,1]^n$ is taken by repeating interval multiplication of form $[-1,1]\\cdot [-1,1]\\cdot \\cdots \\cdot [-1,1]$ then the result is $[-1,1]$, wider than necessary.\"\n",
    "\n",
    "<!-- The foregoing is quoted from Wikipedia. -->"
   ]
  },
  {
   "cell_type": "markdown",
   "metadata": {},
   "source": [
    "### <span style=\"color:#345995\">Exercise 4: Interval Exponential</span>\n",
    "\n",
    "Compose a function `iexp` which accepts a pair of integers `a` and returns the exponential as calculated above.  `iexp` should check the input range to be certain that the numbers are valid; if they are not, it should return `None` in that position.  `iexp` should return a pair of values of type `float` or `int`.\n",
    "\n",
    "(`None` here does not mean that the quantity is not calculable, only that it lies beyond what we are going to consider in this lab's abbreviated treatment.)"
   ]
  },
  {
   "cell_type": "code",
   "execution_count": null,
   "metadata": {},
   "outputs": [],
   "source": [
    "@exercise\n",
    "def iexp(a):\n",
    "    _____"
   ]
  },
  {
   "cell_type": "markdown",
   "metadata": {},
   "source": [
    "### <span style=\"color:#345995\">Exercise 5: Interval Logarithm</span>\n",
    "\n",
    "Compose a function `ilog` which accepts a pair of integers `a` and returns the logarithm as calculated above.  `ilog` should check the input range to be certain that the numbers are valid; if they are not, it should return `None` in that position.  `ilog` should return a pair of values of type `float` or `int`."
   ]
  },
  {
   "cell_type": "code",
   "execution_count": null,
   "metadata": {},
   "outputs": [],
   "source": [
    "@exercise\n",
    "def ilog(a):\n",
    "    _____"
   ]
  },
  {
   "cell_type": "markdown",
   "metadata": {},
   "source": [
    "### <span style=\"color:#345995\">Exercise 6: Odd Exponents</span>\n",
    "\n",
    "Compose a function `ipow` which accepts a pair of integers `a` and an odd integer `b` and returns the power as calculated above.  `ipow` should check the input range to be certain that the requested power is odd; if it is not, `ipow` should return `None`.  `ipow` should return a pair of values of type `float` or `int`."
   ]
  },
  {
   "cell_type": "code",
   "execution_count": null,
   "metadata": {},
   "outputs": [],
   "source": [
    "@exercise\n",
    "def ipow(a,b):\n",
    "    _____"
   ]
  },
  {
   "cell_type": "markdown",
   "metadata": {},
   "source": [
    "<div class=\"alert alert-danger\">\n",
    "Check in with your team and TA to make sure everyone understands concepts up through this point.\n",
    "</div>"
   ]
  },
  {
   "cell_type": "markdown",
   "metadata": {},
   "source": [
    "Interval arithmetic is particular useful for two applications that engineers and scientists frequently encounter:\n",
    "\n",
    "1. Error analysis.  Whenever a quantity with uncertainty is introduced into an expression, interval arithmetic provides a way of propagating that uncertainty forward through the equations into the final result.\n",
    "\n",
    "2. Tolerance analysis.  Since manufacturing processes are specified in terms of approximate ranges, it is sometimes convenient to carry out calculations based on ranges of parameters rather than single central values.\n",
    "\n",
    "However, if more sophisticated methods are available, such as propagation of error, these are typically preferred, as interval arithmetic yields a worst-case analysis."
   ]
  }
 ],
 "metadata": {
  "kernelspec": {
   "display_name": "Python 3",
   "language": "python",
   "name": "python3"
  },
  "language_info": {
   "codemirror_mode": {
    "name": "ipython",
    "version": 3
   },
   "file_extension": ".py",
   "mimetype": "text/x-python",
   "name": "python",
   "nbconvert_exporter": "python",
   "pygments_lexer": "ipython3",
   "version": "3.8.5"
  }
 },
 "nbformat": 4,
 "nbformat_minor": 4
}
